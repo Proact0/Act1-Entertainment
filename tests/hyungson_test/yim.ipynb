{
 "cells": [
  {
   "cell_type": "code",
   "execution_count": null,
   "metadata": {},
   "outputs": [
    {
     "name": "stdout",
     "output_type": "stream",
     "text": [
      "{\"error_type\": \"OAuthException\", \"code\": 400, \"error_message\": \"You must provide a valid client_secret and code\"}"
     ]
    }
   ],
   "source": [
    "# curl -X POST https://api.instagram.com/oauth/access_token \\\n",
    "#   -F 'client_id=1399481901197284' \\\n",
    "#   -F 'client_secret=b5f382674fc6790ca33e21987d77fcce' \\\n",
    "#   -F 'grant_type=authorization_code' \\\n",
    "#   -F 'redirect_uri=https://pseudo.com/' \\\n",
    "#   -F 'code=AQBk7omOXBna9xEXNLq3Ca7GO5M-XXMgJ44FVU6FtscAY1Dl-3CQi2VL-TLvQ4A5QTRgQYkKwFme_oOlgaEejl14D4YrBo0UQuN3ZXPt3RFPDSVPa0phaqkcDCc2WETvHMYzrkegQn6oE0pX7ObtYvNo9cNbRSw7z40BT7muYVeDuMr5T0-DD21T4N2z1EporW_D7ew-3NDb2bO-vkpPUzbFt0gLbAVSQOTF6KIF_LXsxw'"
   ]
  },
  {
   "cell_type": "code",
   "execution_count": 2,
   "metadata": {},
   "outputs": [
    {
     "ename": "SyntaxError",
     "evalue": "invalid syntax (4290686422.py, line 1)",
     "output_type": "error",
     "traceback": [
      "  \u001b[36mCell\u001b[39m\u001b[36m \u001b[39m\u001b[32mIn[2]\u001b[39m\u001b[32m, line 1\u001b[39m\n\u001b[31m    \u001b[39m\u001b[31mcurl -X POST https://api.instagram.com/oauth/access_token \\\u001b[39m\n            ^\n\u001b[31mSyntaxError\u001b[39m\u001b[31m:\u001b[39m invalid syntax\n"
     ]
    }
   ],
   "source": [
    "# {\"access_token\":\n",
    "# \"IGAA60SLOFBidBZAE9HdEpFWWl6d0RmMnVkdEVyS1ktYVJiZAHFmUFRtWS1WWmFxNWlXM3lHRW1iLVhWLUVTRWdnVVNCU056YURCbVZATQmRxb3BNOWNQM0hiX2NpTWFCdlpONDc3TzBMM0V1Xy1tTlV5N21KSEl4TEd3SktmMFZAPb1VwWWJ2X0tXYVl0OUIxRUowMXV5RmRR\",\n",
    "# \"user_id\": 30281998311447113, \"permissions\":\n",
    "# [\"instagram_business_basic\", \"instagram_business_manage_messages\",\n",
    "# \"instagram_business_content_publish\", \"instagram_business_manage_insights\",\n",
    "# \"instagram_business_manage_comments\"]}%"
   ]
  },
  {
   "cell_type": "code",
   "execution_count": null,
   "metadata": {},
   "outputs": [
    {
     "name": "stdout",
     "output_type": "stream",
     "text": [
      "zsh:1: parse error near `&'\n"
     ]
    }
   ],
   "source": [
    "! curl -X GET \"https://graph.instagram.com/access_token?grant_type=ig_exchange_token&&client_secret=eb87G...&access_token=IGQVJ...\""
   ]
  },
  {
   "cell_type": "code",
   "execution_count": 1,
   "metadata": {},
   "outputs": [],
   "source": [
    "# 60일 토큰\n",
    "token = {\n",
    "    \"access_token\": \"IGAA60SLOFBidBZAFB1ZAURpem9lRFVaeS04bXZAvWXhkV0dCSjY1ODVHaVoybERLcnVqOEhvYlNPbXFUNUE0a20weER1aGFXOTF2VXY1Ti1mRmd3WmdGRUh2SDgyeDVxam5BS1RMZAmkzZAWszNDZArZAFoxbXdR\",\n",
    "    \"token_type\": \"bearer\",\n",
    "    \"expires_in\": 5184000,\n",
    "}"
   ]
  },
  {
   "cell_type": "code",
   "execution_count": 3,
   "metadata": {},
   "outputs": [
    {
     "data": {
      "text/plain": [
       "'IGAA60SLOFBidBZAFB1ZAURpem9lRFVaeS04bXZAvWXhkV0dCSjY1ODVHaVoybERLcnVqOEhvYlNPbXFUNUE0a20weER1aGFXOTF2VXY1Ti1mRmd3WmdGRUh2SDgyeDVxam5BS1RMZAmkzZAWszNDZArZAFoxbXdR'"
      ]
     },
     "execution_count": 3,
     "metadata": {},
     "output_type": "execute_result"
    }
   ],
   "source": [
    "token[\"access_token\"]"
   ]
  },
  {
   "cell_type": "code",
   "execution_count": 4,
   "metadata": {},
   "outputs": [],
   "source": [
    "# curl -i -X GET \\\n",
    "#  \"https://graph.instagram.com/v23.0/me?fields=user_id,username&access_token=IGAA60SLOFBidBZAFB1ZAURpem9lRFVaeS04bXZAvWXhkV0dCSjY1ODVHaVoybERLcnVqOEhvYlNPbXFUNUE0a20weER1aGFXOTF2VXY1Ti1mRmd3WmdGRUh2SDgyeDVxam5BS1RMZAmkzZAWszNDZArZAFoxbXdR\""
   ]
  },
  {
   "cell_type": "code",
   "execution_count": 16,
   "metadata": {},
   "outputs": [],
   "source": [
    "user_id = {\n",
    "    \"user_id\": \"17841451140542851\",\n",
    "    \"username\": \"yimbapchunguk\",\n",
    "    \"id\": \"30281998311447113\",\n",
    "}"
   ]
  },
  {
   "cell_type": "code",
   "execution_count": 17,
   "metadata": {},
   "outputs": [
    {
     "name": "stdout",
     "output_type": "stream",
     "text": [
      "{'data': [{'id': '18007485335525524', 'caption': '정호영 쉐프의 냉제육\\n\\n내가 해봤던 요리 중 가장 쉬운 편에 속하지만\\n맛 또한 가장 좋은 편에 속한다.\\n\\n꼭 해먹어 보길 바람처럼 왔다가 이슬처럼 갈 순 없잖아', 'media_type': 'IMAGE', 'timestamp': '2024-05-18T17:56:11+0000', 'username': 'yimbapchunguk', 'like_count': 13, 'comments_count': 7}, {'id': '18008998250043407', 'caption': '여유 long time no see\\n원팬 파스타 sucks\\nI prefer old way', 'media_type': 'CAROUSEL_ALBUM', 'timestamp': '2023-11-09T07:15:54+0000', 'username': 'yimbapchunguk', 'like_count': 11, 'comments_count': 0}, {'id': '18003786535984507', 'caption': '동기님들 방문해 주셨습니다… 근데 이제 인스피릿을 곁들인', 'media_type': 'CAROUSEL_ALBUM', 'timestamp': '2023-08-29T17:05:47+0000', 'username': 'yimbapchunguk', 'like_count': 20, 'comments_count': 6}, {'id': '17913183179789753', 'caption': '메타코미디클럽 이선민씨 방문해주셨습니다', 'media_type': 'CAROUSEL_ALBUM', 'timestamp': '2023-08-05T07:05:01+0000', 'username': 'yimbapchunguk', 'like_count': 19, 'comments_count': 1}, {'id': '17887411151864640', 'caption': '냉우동 맛도리\\n커티삭 맛도리', 'media_type': 'CAROUSEL_ALBUM', 'timestamp': '2023-07-21T03:36:27+0000', 'username': 'yimbapchunguk', 'like_count': 17, 'comments_count': 4}, {'id': '17954969525209194', 'caption': '찬물로 파 씻다가 손구락 얼음', 'media_type': 'CAROUSEL_ALBUM', 'timestamp': '2023-01-24T13:43:49+0000', 'username': 'yimbapchunguk', 'like_count': 22, 'comments_count': 3}, {'id': '17884996073691257', 'caption': '바쁘다 바뻐 형빈사회\\n집에서 밥을 거의 못먹다가 오랜만에 꽤 공들여서 한 저녁\\n학회듣고 빨래하고 뭐하고 하다가 10시 반에 겨우 먹음\\n후식은 컵누들', 'media_type': 'CAROUSEL_ALBUM', 'timestamp': '2022-11-15T16:08:58+0000', 'username': 'yimbapchunguk', 'like_count': 18, 'comments_count': 3}, {'id': '17958508052095266', 'caption': '개지리는 카레 레시피 알아냄\\n견과류 빻아서 넣으면 맛있음\\n나는 구운 캐슈너트 넣었음\\n후첨가 버터는 유통기한 지났음\\n카레 넣기 전에 이미 국물 지렸음', 'media_type': 'CAROUSEL_ALBUM', 'timestamp': '2022-10-18T04:22:23+0000', 'username': 'yimbapchunguk', 'like_count': 17, 'comments_count': 5}, {'id': '18313440799027884', 'caption': '많이도 해서 먹었습니다', 'media_type': 'CAROUSEL_ALBUM', 'timestamp': '2022-08-19T12:06:56+0000', 'username': 'yimbapchunguk', 'like_count': 20, 'comments_count': 7}, {'id': '17910861560562909', 'caption': '간만에 임밥천국이 영업했어요.\\n저희 매장 기본찬인 웨지 감자와 봉골레 두접시, 육전 한사바리 요리했습니다.\\n+와인 6병 , 어 리를빗 꼬냑\\n\\n#봉골레 #봉골레파스타 #봉골레맛집 #육전 #육전맛집 #임밥천국', 'media_type': 'CAROUSEL_ALBUM', 'timestamp': '2022-07-01T15:47:18+0000', 'username': 'yimbapchunguk', 'like_count': 19, 'comments_count': 1}, {'id': '17936239340067834', 'caption': '쌀이 세컵밖에 안남아서 냄비밥을 했다. 냄비밥은 정말 맛있다. \\n간만에 소고기먹었다. 소가 맛있는 이유는 자주 못먹어서 인듯ㅋㅋ \\n\\n#백종원레시피 #소불고기 #냄비밥 #최강록레시피', 'media_type': 'CAROUSEL_ALBUM', 'timestamp': '2022-06-11T16:23:58+0000', 'username': 'yimbapchunguk', 'like_count': 24, 'comments_count': 7}, {'id': '17928318890256046', 'caption': '오랜만에 손님 맞이로 임밥천국을 개시했읍니다. 꽤나 만족스러운 맛이었읍니다. 문의주세요. 단체 환영.\\n\\n#골뱅이무침 #부추전 #백종원레시피 #아하부장레시피', 'media_type': 'CAROUSEL_ALBUM', 'timestamp': '2022-05-08T04:45:29+0000', 'username': 'yimbapchunguk', 'like_count': 12, 'comments_count': 4}, {'id': '17925246794186696', 'caption': '카레는 역시 저 골든 커리가 젤 맛있는듯. 양파 캬라멜라이징 싹 돌리고 소고기 마이야르 촥 굽고 브섯이랑 댕건 스윽 구워서 가니시로 올리면 코코이찌방야 저리 가라야~\\n\\n#카레 #일본식카레 #골든카레 #goldencurry #임밥천국', 'media_type': 'CAROUSEL_ALBUM', 'timestamp': '2022-03-19T12:26:32+0000', 'username': 'yimbapchunguk', 'like_count': 10, 'comments_count': 16}, {'id': '17933571104071046', 'caption': '이번 봉골레 실패했다 면발 무슨 칼국수냐? 애들 앞에서 임밥천국 쪽팔리게 에이씨 빡치네 \\n\\n#봉골레파스타', 'media_type': 'CAROUSEL_ALBUM', 'timestamp': '2022-03-14T11:16:53+0000', 'username': 'yimbapchunguk', 'like_count': 10, 'comments_count': 6}, {'id': '17916218135489138', 'caption': '토맛토맛토 스파게티는 참 간편해~\\n\\n#토마토파스타', 'media_type': 'CAROUSEL_ALBUM', 'timestamp': '2022-03-04T09:41:44+0000', 'username': 'yimbapchunguk', 'like_count': 9, 'comments_count': 3}, {'id': '17930629043024490', 'caption': '백종원 선생님의 콩내물 불게기를 해보았다. 설탕을 넣다 쫌 쏟아서 달달했다. 백선생님 오늘도 감사했습니다… 방구석 제자가 되니 기쁘네요 😎\\n\\n#백종원레시피 #콩나물불고기 #임밥천국', 'media_type': 'CAROUSEL_ALBUM', 'timestamp': '2022-02-22T04:13:32+0000', 'username': 'yimbapchunguk', 'like_count': 14, 'comments_count': 0}, {'id': '17982896386458231', 'caption': '설날 기념 잡채를 만들어보았다. 편스토랑에서 어남선생의 레시피를 카피했다. 편하고 맛이 좋았다. 신선하게 시금치 대신 알배추를 넣었다. 달고 담백하니 맛이 좋았다. 하이볼 세잔 먹음. \\n\\n#편스토랑레시피 #어남선생레시피 #잡채', 'media_type': 'CAROUSEL_ALBUM', 'timestamp': '2022-02-01T13:38:06+0000', 'username': 'yimbapchunguk', 'like_count': 8, 'comments_count': 3}, {'id': '18184518865091131', 'caption': '닭개장… 어렵고 힘들 것 같나? 그렇다. 두시간을 걸려서 만들었다. 이번엔 msg를 안넣고 만들었고 그래도 맛있었다. 나중에 친구들 오면 만들어서 쏘주랑 먹어야지\\n\\n#닭개장 #아하부장 #아하부장레시피', 'media_type': 'CAROUSEL_ALBUM', 'timestamp': '2022-01-27T14:04:40+0000', 'username': 'yimbapchunguk', 'like_count': 5, 'comments_count': 4}, {'id': '17959135507574073', 'caption': '고기 굽기는 아직 서투르다… 코팅 팬을 또 태워버렸어… 설거지는 두렵지만 맛은 아주 맛있었다. 이런 맛이라면 그깟 설거지 백번은 해주마!!!\\n\\n#돼지고기목살구이 #마이야르 #몬트리올시즈닝', 'media_type': 'CAROUSEL_ALBUM', 'timestamp': '2022-01-22T14:09:32+0000', 'username': 'yimbapchunguk', 'like_count': 5, 'comments_count': 4}, {'id': '17916204953221655', 'caption': '소고기 무국\\n깊다… 냄비가 3m쯤 되려나…? 착각하게 하는 맛 \\n백종원이 없는 다른 멀티버스에서 임형빈 너는 뭘 먹고 지내냐?!!!\\n#소고기무국 #백종원 #백종원레시피', 'media_type': 'CAROUSEL_ALBUM', 'timestamp': '2022-01-17T13:39:02+0000', 'username': 'yimbapchunguk', 'like_count': 6, 'comments_count': 2}, {'id': '17949593110651400', 'caption': '제육볶음\\n#공격수셰프 #공격수셰프레시피 #제육볶음', 'media_type': 'CAROUSEL_ALBUM', 'timestamp': '2022-01-17T10:52:03+0000', 'username': 'yimbapchunguk', 'like_count': 2, 'comments_count': 2}], 'paging': {'cursors': {'before': 'QVFGbVRZALVFGaDhIbkh5b3F0a1cydEZATQzVkcGN6N21Wbk1leTFpZA01YMC03dm5ZAMUVLR282UXV6WmdRV3g4cllPYlRIU1ZA5NDZAmQkN4cmRTZAkIzNDEtYW5R', 'after': 'QVFGbXlTM3hoTTA0S0U3VXpBbHEyMWlQYWd2Ym5leUpsTUJPVWRZARFNuTmwwWGJqenVVQ0paOUxQWG1JWUtyMHBTNUM2cHBFNTRqVHJ2RWlFZAEdXUlRPVDNR'}}}\n"
     ]
    }
   ],
   "source": [
    "# 미디어 조회\n",
    "\n",
    "import requests\n",
    "\n",
    "# 액세스 토큰과 Instagram User ID를 입력하세요\n",
    "ACCESS_TOKEN = token[\"access_token\"]\n",
    "USER_ID = user_id[\"user_id\"]  # 보통 'me'로도 가능\n",
    "\n",
    "# 요청할 필드 지정 (예: id, caption, media_type, media_url, timestamp 등)\n",
    "fields = \"id,caption,media_type,timestamp,username,like_count,comments_count\"\n",
    "\n",
    "url = f\"https://graph.instagram.com/v23.0/{USER_ID}/media?access_token={ACCESS_TOKEN}\"\n",
    "params = {\n",
    "    \"fields\": fields,\n",
    "    #'access_token': ACCESS_TOKEN\n",
    "}\n",
    "\n",
    "response = requests.get(url, params=params)\n",
    "if response.status_code == 200:\n",
    "    data = response.json()\n",
    "    print(data)\n",
    "else:\n",
    "    print(\"Error:\", response.status_code, response.text)"
   ]
  },
  {
   "cell_type": "code",
   "execution_count": 18,
   "metadata": {},
   "outputs": [
    {
     "data": {
      "text/plain": [
       "{'id': '18007485335525524',\n",
       " 'caption': '정호영 쉐프의 냉제육\\n\\n내가 해봤던 요리 중 가장 쉬운 편에 속하지만\\n맛 또한 가장 좋은 편에 속한다.\\n\\n꼭 해먹어 보길 바람처럼 왔다가 이슬처럼 갈 순 없잖아',\n",
       " 'media_type': 'IMAGE',\n",
       " 'timestamp': '2024-05-18T17:56:11+0000',\n",
       " 'username': 'yimbapchunguk',\n",
       " 'like_count': 13,\n",
       " 'comments_count': 6}"
      ]
     },
     "execution_count": 18,
     "metadata": {},
     "output_type": "execute_result"
    }
   ],
   "source": [
    "data[\"data\"][0]"
   ]
  },
  {
   "cell_type": "code",
   "execution_count": 3,
   "metadata": {},
   "outputs": [
    {
     "name": "stdout",
     "output_type": "stream",
     "text": [
      "[{'id': '18007245821606004', 'text': 'Test', 'timestamp': '2025-06-29T14:03:22+0000'}, {'id': '18022768160476133', 'text': '@mirageee_00 맞아요', 'timestamp': '2024-05-19T02:48:47+0000'}, {'id': '17948944328688519', 'text': '@joo_bob_1212 당신의 못된 심보', 'timestamp': '2024-05-19T02:48:39+0000'}, {'id': '18017927048263258', 'text': '@gangster_joo 아직 제자리 걸음입니다', 'timestamp': '2024-05-19T02:48:28+0000'}, {'id': '17976935447558867', 'text': '왜 이유없이 화가나지 ?', 'timestamp': '2024-05-18T18:57:59+0000'}, {'id': '18047838088664274', 'text': '소금 넣고 끓는 물에 담구는 그거?', 'timestamp': '2024-05-18T18:07:18+0000'}, {'id': '18414185098071553', 'text': '저한테 해줬던 봉골레 파스타는 일취월장 하셨나요?? 임쉪??', 'timestamp': '2024-05-18T18:04:05+0000'}]\n"
     ]
    }
   ],
   "source": [
    "# 미디어 댓글 조회\n",
    "\n",
    "import requests\n",
    "\n",
    "# IG_MEDIA_ID에 실제 미디어 ID를 입력하세요\n",
    "IG_MEDIA_ID = \"18007485335525524\"  # data['data'][0]['id']\n",
    "ACCESS_TOKEN = token[\"access_token\"]\n",
    "# ACCESS_TOKEN = \"IGAA60SLOFBidBZAE03d3VxN3lvaHAyMXJHNVM2bnFGeDhvdWNuOHRtS1c5b3gzOFpWQzZARZAjhBMXBOTlBEOVR1cXMwUG5BSXlWWHZALWUpOVHBna0Rtc2tyVy1ieE5TM3pYa3NiMzlOR3hmOTB4dUFUdy1jZAEFHWmF0R0J5ZA3ZAlZAwZDZD\"\n",
    "\n",
    "url = f\"https://graph.instagram.com/v23.0/{IG_MEDIA_ID}/comments?access_token={ACCESS_TOKEN}\"\n",
    "fields = \"id,text,timestamp\"\n",
    "params = {\"fields\": fields}\n",
    "\n",
    "response = requests.get(url, params=params)\n",
    "if response.status_code == 200:\n",
    "    comments_data = response.json()\n",
    "    print(comments_data[\"data\"])\n",
    "else:\n",
    "    print(\"Error:\", response.status_code, response.text)"
   ]
  },
  {
   "cell_type": "code",
   "execution_count": 7,
   "metadata": {},
   "outputs": [],
   "source": [
    "# 60일 토큰\n",
    "token = {\n",
    "    \"access_token\": \"IGAA60SLOFBidBZAFB1ZAURpem9lRFVaeS04bXZAvWXhkV0dCSjY1ODVHaVoybERLcnVqOEhvYlNPbXFUNUE0a20weER1aGFXOTF2VXY1Ti1mRmd3WmdGRUh2SDgyeDVxam5BS1RMZAmkzZAWszNDZArZAFoxbXdR\",\n",
    "    \"token_type\": \"bearer\",\n",
    "    \"expires_in\": 5184000,\n",
    "}"
   ]
  },
  {
   "cell_type": "code",
   "execution_count": 8,
   "metadata": {},
   "outputs": [
    {
     "data": {
      "text/plain": [
       "'IGAA60SLOFBidBZAFB1ZAURpem9lRFVaeS04bXZAvWXhkV0dCSjY1ODVHaVoybERLcnVqOEhvYlNPbXFUNUE0a20weER1aGFXOTF2VXY1Ti1mRmd3WmdGRUh2SDgyeDVxam5BS1RMZAmkzZAWszNDZArZAFoxbXdR'"
      ]
     },
     "execution_count": 8,
     "metadata": {},
     "output_type": "execute_result"
    }
   ],
   "source": [
    "token[\"access_token\"]"
   ]
  },
  {
   "cell_type": "code",
   "execution_count": null,
   "metadata": {},
   "outputs": [],
   "source": [
    "# curl -i -X GET \\\n",
    "#  \"https://graph.instagram.com/v23.0/me?fields=user_id,username&access_token=IGAA60SLOFBidBZAFB1ZAURpem9lRFVaeS04bXZAvWXhkV0dCSjY1ODVHaVoybERLcnVqOEhvYlNPbXFUNUE0a20weER1aGFXOTF2VXY1Ti1mRmd3WmdGRUh2SDgyeDVxam5BS1RMZAmkzZAWszNDZArZAFoxbXdR\""
   ]
  },
  {
   "cell_type": "code",
   "execution_count": null,
   "metadata": {},
   "outputs": [],
   "source": [
    "user_id = {\n",
    "    \"user_id\": \"17841451140542851\",\n",
    "    \"username\": \"yimbapchunguk\",\n",
    "    \"id\": \"30281998311447113\",\n",
    "}"
   ]
  },
  {
   "cell_type": "code",
   "execution_count": null,
   "metadata": {},
   "outputs": [
    {
     "name": "stdout",
     "output_type": "stream",
     "text": [
      "{'data': [{'id': '18007485335525524', 'caption': '정호영 쉐프의 냉제육\\n\\n내가 해봤던 요리 중 가장 쉬운 편에 속하지만\\n맛 또한 가장 좋은 편에 속한다.\\n\\n꼭 해먹어 보길 바람처럼 왔다가 이슬처럼 갈 순 없잖아', 'media_type': 'IMAGE', 'timestamp': '2024-05-18T17:56:11+0000', 'username': 'yimbapchunguk', 'like_count': 13, 'comments_count': 6}, {'id': '18008998250043407', 'caption': '여유 long time no see\\n원팬 파스타 sucks\\nI prefer old way', 'media_type': 'CAROUSEL_ALBUM', 'timestamp': '2023-11-09T07:15:54+0000', 'username': 'yimbapchunguk', 'like_count': 11, 'comments_count': 0}, {'id': '18003786535984507', 'caption': '동기님들 방문해 주셨습니다… 근데 이제 인스피릿을 곁들인', 'media_type': 'CAROUSEL_ALBUM', 'timestamp': '2023-08-29T17:05:47+0000', 'username': 'yimbapchunguk', 'like_count': 20, 'comments_count': 6}, {'id': '17913183179789753', 'caption': '메타코미디클럽 이선민씨 방문해주셨습니다', 'media_type': 'CAROUSEL_ALBUM', 'timestamp': '2023-08-05T07:05:01+0000', 'username': 'yimbapchunguk', 'like_count': 19, 'comments_count': 1}, {'id': '17887411151864640', 'caption': '냉우동 맛도리\\n커티삭 맛도리', 'media_type': 'CAROUSEL_ALBUM', 'timestamp': '2023-07-21T03:36:27+0000', 'username': 'yimbapchunguk', 'like_count': 17, 'comments_count': 4}, {'id': '17954969525209194', 'caption': '찬물로 파 씻다가 손구락 얼음', 'media_type': 'CAROUSEL_ALBUM', 'timestamp': '2023-01-24T13:43:49+0000', 'username': 'yimbapchunguk', 'like_count': 22, 'comments_count': 3}, {'id': '17884996073691257', 'caption': '바쁘다 바뻐 형빈사회\\n집에서 밥을 거의 못먹다가 오랜만에 꽤 공들여서 한 저녁\\n학회듣고 빨래하고 뭐하고 하다가 10시 반에 겨우 먹음\\n후식은 컵누들', 'media_type': 'CAROUSEL_ALBUM', 'timestamp': '2022-11-15T16:08:58+0000', 'username': 'yimbapchunguk', 'like_count': 18, 'comments_count': 3}, {'id': '17958508052095266', 'caption': '개지리는 카레 레시피 알아냄\\n견과류 빻아서 넣으면 맛있음\\n나는 구운 캐슈너트 넣었음\\n후첨가 버터는 유통기한 지났음\\n카레 넣기 전에 이미 국물 지렸음', 'media_type': 'CAROUSEL_ALBUM', 'timestamp': '2022-10-18T04:22:23+0000', 'username': 'yimbapchunguk', 'like_count': 17, 'comments_count': 5}, {'id': '18313440799027884', 'caption': '많이도 해서 먹었습니다', 'media_type': 'CAROUSEL_ALBUM', 'timestamp': '2022-08-19T12:06:56+0000', 'username': 'yimbapchunguk', 'like_count': 20, 'comments_count': 7}, {'id': '17910861560562909', 'caption': '간만에 임밥천국이 영업했어요.\\n저희 매장 기본찬인 웨지 감자와 봉골레 두접시, 육전 한사바리 요리했습니다.\\n+와인 6병 , 어 리를빗 꼬냑\\n\\n#봉골레 #봉골레파스타 #봉골레맛집 #육전 #육전맛집 #임밥천국', 'media_type': 'CAROUSEL_ALBUM', 'timestamp': '2022-07-01T15:47:18+0000', 'username': 'yimbapchunguk', 'like_count': 19, 'comments_count': 1}, {'id': '17936239340067834', 'caption': '쌀이 세컵밖에 안남아서 냄비밥을 했다. 냄비밥은 정말 맛있다. \\n간만에 소고기먹었다. 소가 맛있는 이유는 자주 못먹어서 인듯ㅋㅋ \\n\\n#백종원레시피 #소불고기 #냄비밥 #최강록레시피', 'media_type': 'CAROUSEL_ALBUM', 'timestamp': '2022-06-11T16:23:58+0000', 'username': 'yimbapchunguk', 'like_count': 24, 'comments_count': 7}, {'id': '17928318890256046', 'caption': '오랜만에 손님 맞이로 임밥천국을 개시했읍니다. 꽤나 만족스러운 맛이었읍니다. 문의주세요. 단체 환영.\\n\\n#골뱅이무침 #부추전 #백종원레시피 #아하부장레시피', 'media_type': 'CAROUSEL_ALBUM', 'timestamp': '2022-05-08T04:45:29+0000', 'username': 'yimbapchunguk', 'like_count': 12, 'comments_count': 4}, {'id': '17925246794186696', 'caption': '카레는 역시 저 골든 커리가 젤 맛있는듯. 양파 캬라멜라이징 싹 돌리고 소고기 마이야르 촥 굽고 브섯이랑 댕건 스윽 구워서 가니시로 올리면 코코이찌방야 저리 가라야~\\n\\n#카레 #일본식카레 #골든카레 #goldencurry #임밥천국', 'media_type': 'CAROUSEL_ALBUM', 'timestamp': '2022-03-19T12:26:32+0000', 'username': 'yimbapchunguk', 'like_count': 10, 'comments_count': 16}, {'id': '17933571104071046', 'caption': '이번 봉골레 실패했다 면발 무슨 칼국수냐? 애들 앞에서 임밥천국 쪽팔리게 에이씨 빡치네 \\n\\n#봉골레파스타', 'media_type': 'CAROUSEL_ALBUM', 'timestamp': '2022-03-14T11:16:53+0000', 'username': 'yimbapchunguk', 'like_count': 10, 'comments_count': 6}, {'id': '17916218135489138', 'caption': '토맛토맛토 스파게티는 참 간편해~\\n\\n#토마토파스타', 'media_type': 'CAROUSEL_ALBUM', 'timestamp': '2022-03-04T09:41:44+0000', 'username': 'yimbapchunguk', 'like_count': 9, 'comments_count': 3}, {'id': '17930629043024490', 'caption': '백종원 선생님의 콩내물 불게기를 해보았다. 설탕을 넣다 쫌 쏟아서 달달했다. 백선생님 오늘도 감사했습니다… 방구석 제자가 되니 기쁘네요 😎\\n\\n#백종원레시피 #콩나물불고기 #임밥천국', 'media_type': 'CAROUSEL_ALBUM', 'timestamp': '2022-02-22T04:13:32+0000', 'username': 'yimbapchunguk', 'like_count': 14, 'comments_count': 0}, {'id': '17982896386458231', 'caption': '설날 기념 잡채를 만들어보았다. 편스토랑에서 어남선생의 레시피를 카피했다. 편하고 맛이 좋았다. 신선하게 시금치 대신 알배추를 넣었다. 달고 담백하니 맛이 좋았다. 하이볼 세잔 먹음. \\n\\n#편스토랑레시피 #어남선생레시피 #잡채', 'media_type': 'CAROUSEL_ALBUM', 'timestamp': '2022-02-01T13:38:06+0000', 'username': 'yimbapchunguk', 'like_count': 8, 'comments_count': 3}, {'id': '18184518865091131', 'caption': '닭개장… 어렵고 힘들 것 같나? 그렇다. 두시간을 걸려서 만들었다. 이번엔 msg를 안넣고 만들었고 그래도 맛있었다. 나중에 친구들 오면 만들어서 쏘주랑 먹어야지\\n\\n#닭개장 #아하부장 #아하부장레시피', 'media_type': 'CAROUSEL_ALBUM', 'timestamp': '2022-01-27T14:04:40+0000', 'username': 'yimbapchunguk', 'like_count': 5, 'comments_count': 4}, {'id': '17959135507574073', 'caption': '고기 굽기는 아직 서투르다… 코팅 팬을 또 태워버렸어… 설거지는 두렵지만 맛은 아주 맛있었다. 이런 맛이라면 그깟 설거지 백번은 해주마!!!\\n\\n#돼지고기목살구이 #마이야르 #몬트리올시즈닝', 'media_type': 'CAROUSEL_ALBUM', 'timestamp': '2022-01-22T14:09:32+0000', 'username': 'yimbapchunguk', 'like_count': 5, 'comments_count': 4}, {'id': '17916204953221655', 'caption': '소고기 무국\\n깊다… 냄비가 3m쯤 되려나…? 착각하게 하는 맛 \\n백종원이 없는 다른 멀티버스에서 임형빈 너는 뭘 먹고 지내냐?!!!\\n#소고기무국 #백종원 #백종원레시피', 'media_type': 'CAROUSEL_ALBUM', 'timestamp': '2022-01-17T13:39:02+0000', 'username': 'yimbapchunguk', 'like_count': 6, 'comments_count': 2}, {'id': '17949593110651400', 'caption': '제육볶음\\n#공격수셰프 #공격수셰프레시피 #제육볶음', 'media_type': 'CAROUSEL_ALBUM', 'timestamp': '2022-01-17T10:52:03+0000', 'username': 'yimbapchunguk', 'like_count': 2, 'comments_count': 2}], 'paging': {'cursors': {'before': 'QVFIUlJjTEM2Y3U1X2dRcGw4UVNhb0tnTmpvR1F6aUFfZA2RtcVpOZAnNtek5PeFlQRk1jdHFCTVJIaTBVelBmU0pYX0dVa3R0ckduam1CLXctb09lQTRiLUZAR', 'after': 'QVFIUjdhbkp1dmk1RG91bFo2Qm1taGc5R2RHVnc2NEVTQ0hTaExUTlNVR3NyamVwY01YM2xEWHNpX0tmaG9FQW1Ec1REbXpZAWmZAxMTNUbVFlMFp0RE1lLU5B'}}}\n"
     ]
    }
   ],
   "source": [
    "# 미디어 조회\n",
    "\n",
    "import requests\n",
    "\n",
    "# 액세스 토큰과 Instagram User ID를 입력하세요\n",
    "ACCESS_TOKEN = token[\"access_token\"]\n",
    "USER_ID = user_id[\"user_id\"]  # 보통 'me'로도 가능\n",
    "\n",
    "# 요청할 필드 지정 (예: id, caption, media_type, media_url, timestamp 등)\n",
    "fields = \"id,caption,media_type,timestamp,username,like_count,comments_count\"\n",
    "\n",
    "url = f\"https://graph.instagram.com/v23.0/{USER_ID}/media?access_token={ACCESS_TOKEN}\"\n",
    "params = {\n",
    "    \"fields\": fields,\n",
    "    #'access_token': ACCESS_TOKEN\n",
    "}\n",
    "\n",
    "response = requests.get(url, params=params)\n",
    "if response.status_code == 200:\n",
    "    data = response.json()\n",
    "    print(data)\n",
    "else:\n",
    "    print(\"Error:\", response.status_code, response.text)"
   ]
  },
  {
   "cell_type": "code",
   "execution_count": null,
   "metadata": {},
   "outputs": [
    {
     "data": {
      "text/plain": [
       "{'id': '18007485335525524',\n",
       " 'caption': '정호영 쉐프의 냉제육\\n\\n내가 해봤던 요리 중 가장 쉬운 편에 속하지만\\n맛 또한 가장 좋은 편에 속한다.\\n\\n꼭 해먹어 보길 바람처럼 왔다가 이슬처럼 갈 순 없잖아',\n",
       " 'media_type': 'IMAGE',\n",
       " 'timestamp': '2024-05-18T17:56:11+0000',\n",
       " 'username': 'yimbapchunguk',\n",
       " 'like_count': 13,\n",
       " 'comments_count': 6}"
      ]
     },
     "metadata": {},
     "output_type": "display_data"
    }
   ],
   "source": [
    "data[\"data\"][0]"
   ]
  },
  {
   "cell_type": "code",
   "execution_count": 9,
   "metadata": {},
   "outputs": [
    {
     "name": "stdout",
     "output_type": "stream",
     "text": [
      "[{'id': '18007245821606004', 'text': 'Test', 'timestamp': '2025-06-29T14:03:22+0000'}, {'id': '18022768160476133', 'text': '@mirageee_00 맞아요', 'timestamp': '2024-05-19T02:48:47+0000'}, {'id': '17948944328688519', 'text': '@joo_bob_1212 당신의 못된 심보', 'timestamp': '2024-05-19T02:48:39+0000'}, {'id': '18017927048263258', 'text': '@gangster_joo 아직 제자리 걸음입니다', 'timestamp': '2024-05-19T02:48:28+0000'}, {'id': '17976935447558867', 'text': '왜 이유없이 화가나지 ?', 'timestamp': '2024-05-18T18:57:59+0000'}, {'id': '18047838088664274', 'text': '소금 넣고 끓는 물에 담구는 그거?', 'timestamp': '2024-05-18T18:07:18+0000'}, {'id': '18414185098071553', 'text': '저한테 해줬던 봉골레 파스타는 일취월장 하셨나요?? 임쉪??', 'timestamp': '2024-05-18T18:04:05+0000'}]\n"
     ]
    }
   ],
   "source": [
    "# 미디어 댓글 조회\n",
    "\n",
    "import requests\n",
    "\n",
    "# IG_MEDIA_ID에 실제 미디어 ID를 입력하세요\n",
    "IG_MEDIA_ID = \"18007485335525524\"  # data['data'][0]['id']\n",
    "# ACCESS_TOKEN = \"IGAA60SLOFBidBZAE03d3VxN3lvaHAyMXJHNVM2bnFGeDhvdWNuOHRtS1c5b3gzOFpWQzZARZAjhBMXBOTlBEOVR1cXMwUG5BSXlWWHZALWUpOVHBna0Rtc2tyVy1ieE5TM3pYa3NiMzlOR3hmOTB4dUFUdy1jZAEFHWmF0R0J5ZA3ZAlZAwZDZD\"\n",
    "\n",
    "url = f\"https://graph.instagram.com/v23.0/{IG_MEDIA_ID}/comments?access_token={ACCESS_TOKEN}\"\n",
    "fields = \"id,text,timestamp\"\n",
    "params = {\"fields\": fields}\n",
    "\n",
    "response = requests.get(url, params=params)\n",
    "if response.status_code == 200:\n",
    "    comments_data = response.json()\n",
    "    print(comments_data[\"data\"])\n",
    "else:\n",
    "    print(\"Error:\", response.status_code, response.text)"
   ]
  },
  {
   "cell_type": "code",
   "execution_count": 18,
   "metadata": {},
   "outputs": [
    {
     "name": "stdout",
     "output_type": "stream",
     "text": [
      "Error: 400 {\"error\":{\"message\":\"Failed to decode\",\"type\":\"OAuthException\",\"code\":190,\"fbtrace_id\":\"AxJF6E45HOHByVELqH4j9yz\"}}\n"
     ]
    }
   ],
   "source": [
    "# [POST /{ig-comment-id}/replies](https://developers.facebook.com/docs/instagram-api/reference/ig-comment/replies#create)\n",
    "# 미디어 답글\n",
    "\n",
    "import requests\n",
    "\n",
    "# IG_MEDIA_ID에 실제 미디어 ID를 입력하세요\n",
    "IG_MEDIA_ID = \"18022768160476133\"  # data['data'][0]['id']\n",
    "# ACCESS_TOKEN = \"IGAA60SLOFBidBZAFB1ZAURpem9lRFVaeS04bXZAvWXhkV0dCSjY1ODVHaVoybERLcnVqOEhvYlNPbXFUNUE0a20weER1aGFXOTF2VXY1Ti1mRmd3WmdGRUh2SDgyeDVxam5BS1RMZAmkzZAWszNDZArZAFoxbXdR\"\n",
    "\n",
    "url = f\"https://graph.instagram.com/v23.0/{IG_MEDIA_ID}/replies?access_token={ACCESS_TOKEN}?message=test\"\n",
    "\n",
    "\n",
    "response = requests.post(\n",
    "    url,\n",
    "    # params=params\n",
    ")\n",
    "if response.status_code == 200:\n",
    "    comments_data = response.json()\n",
    "    print(comments_data[\"data\"])\n",
    "else:\n",
    "    print(\"Error:\", response.status_code, response.text)"
   ]
  },
  {
   "cell_type": "code",
   "execution_count": 3,
   "metadata": {},
   "outputs": [
    {
     "name": "stdout",
     "output_type": "stream",
     "text": [
      "\u001b[2mUsing Python 3.13.5 environment at: /Users/hyungson/pseudo/Act1-Entertainment/.venv\u001b[0m\n",
      "Package                  Version\n",
      "------------------------ -----------\n",
      "aiohappyeyeballs         2.6.1\n",
      "aiohttp                  3.11.16\n",
      "aiosignal                1.3.2\n",
      "annotated-types          0.7.0\n",
      "anyio                    4.9.0\n",
      "appnope                  0.1.4\n",
      "asttokens                3.0.0\n",
      "attrs                    25.3.0\n",
      "blockbuster              1.5.24\n",
      "certifi                  2025.1.31\n",
      "cffi                     1.17.1\n",
      "cfgv                     3.4.0\n",
      "charset-normalizer       3.4.1\n",
      "click                    8.1.8\n",
      "cloudpickle              3.1.1\n",
      "comm                     0.2.2\n",
      "cryptography             44.0.2\n",
      "dataclasses-json         0.6.7\n",
      "debugpy                  1.8.14\n",
      "decorator                5.2.1\n",
      "distlib                  0.3.9\n",
      "distro                   1.9.0\n",
      "executing                2.2.0\n",
      "filelock                 3.18.0\n",
      "forbiddenfruit           0.1.4\n",
      "frozenlist               1.5.0\n",
      "h11                      0.14.0\n",
      "httpcore                 1.0.8\n",
      "httpx                    0.28.1\n",
      "httpx-sse                0.4.0\n",
      "identify                 2.6.9\n",
      "idna                     3.10\n",
      "iniconfig                2.1.0\n",
      "ipykernel                6.29.5\n",
      "ipython                  9.1.0\n",
      "ipython-pygments-lexers  1.1.1\n",
      "jedi                     0.19.2\n",
      "jiter                    0.9.0\n",
      "jsonpatch                1.33\n",
      "jsonpointer              3.0.0\n",
      "jsonschema-rs            0.29.1\n",
      "jupyter-client           8.6.3\n",
      "jupyter-core             5.7.2\n",
      "langchain                0.3.23\n",
      "langchain-community      0.3.21\n",
      "langchain-core           0.3.52\n",
      "langchain-openai         0.3.13\n",
      "langchain-text-splitters 0.3.8\n",
      "langgraph                0.3.30\n",
      "langgraph-api            0.1.7\n",
      "langgraph-checkpoint     2.0.24\n",
      "langgraph-cli            0.2.3\n",
      "langgraph-prebuilt       0.1.8\n",
      "langgraph-runtime-inmem  0.0.4\n",
      "langgraph-sdk            0.1.61\n",
      "langsmith                0.3.31\n",
      "marshmallow              3.26.1\n",
      "matplotlib-inline        0.1.7\n",
      "multidict                6.4.3\n",
      "mypy-extensions          1.0.0\n",
      "nest-asyncio             1.6.0\n",
      "nodeenv                  1.9.1\n",
      "numpy                    2.2.4\n",
      "openai                   1.74.0\n",
      "orjson                   3.10.16\n",
      "ormsgpack                1.9.1\n",
      "packaging                24.2\n",
      "parso                    0.8.4\n",
      "pexpect                  4.9.0\n",
      "platformdirs             4.3.7\n",
      "pluggy                   1.5.0\n",
      "pre-commit               4.2.0\n",
      "prompt-toolkit           3.0.51\n",
      "propcache                0.3.1\n",
      "psutil                   7.0.0\n",
      "ptyprocess               0.7.0\n",
      "pure-eval                0.2.3\n",
      "pycparser                2.22\n",
      "pydantic                 2.11.3\n",
      "pydantic-core            2.33.1\n",
      "pydantic-settings        2.8.1\n",
      "pygments                 2.19.1\n",
      "pyjwt                    2.10.1\n",
      "pytest                   8.3.5\n",
      "python-dateutil          2.9.0.post0\n",
      "python-dotenv            1.1.0\n",
      "pyyaml                   6.0.2\n",
      "pyzmq                    26.4.0\n",
      "regex                    2024.11.6\n",
      "requests                 2.32.3\n",
      "requests-toolbelt        1.0.0\n",
      "six                      1.17.0\n",
      "sniffio                  1.3.1\n",
      "sqlalchemy               2.0.40\n",
      "sse-starlette            2.1.3\n",
      "stack-data               0.6.3\n",
      "starlette                0.46.2\n",
      "structlog                25.2.0\n",
      "tenacity                 9.1.2\n",
      "tiktoken                 0.9.0\n",
      "tornado                  6.4.2\n",
      "tqdm                     4.67.1\n",
      "traitlets                5.14.3\n",
      "typing-extensions        4.13.2\n",
      "typing-inspect           0.9.0\n",
      "typing-inspection        0.4.0\n",
      "urllib3                  2.4.0\n",
      "uvicorn                  0.34.1\n",
      "virtualenv               20.30.0\n",
      "watchfiles               1.0.5\n",
      "wcwidth                  0.2.13\n",
      "xxhash                   3.5.0\n",
      "yarl                     1.19.0\n",
      "zstandard                0.23.0\n"
     ]
    }
   ],
   "source": [
    "!uv pip list"
   ]
  },
  {
   "cell_type": "code",
   "execution_count": 4,
   "metadata": {},
   "outputs": [],
   "source": [
    "!source /Users/hyungson/pseudo/Act1-Entertainment/.venv/bin/activate"
   ]
  },
  {
   "cell_type": "code",
   "execution_count": 9,
   "metadata": {},
   "outputs": [],
   "source": [
    "import pandas as pd\n",
    "\n",
    "insta_data = pd.read_csv(\"../../../test_comments.csv\")"
   ]
  },
  {
   "cell_type": "code",
   "execution_count": 15,
   "metadata": {},
   "outputs": [
    {
     "data": {
      "text/plain": [
       "0    rozy.gramVerified 115 w로지 폼, 아니 폰트 미쳤다 🤩 여러분! ...\n",
       "1    Your Seoul-inspired visuals are giving major m...\n",
       "2    This vibe’s giving me serious ‘final boss but ...\n",
       "3                                           I love you\n",
       "4                                           Adorable❤️\n",
       "Name: Ône_ând_ônly_, dtype: object"
      ]
     },
     "execution_count": 15,
     "metadata": {},
     "output_type": "execute_result"
    }
   ],
   "source": [
    "insta_data.iloc[:, 1][:5]"
   ]
  },
  {
   "cell_type": "code",
   "execution_count": 19,
   "metadata": {},
   "outputs": [],
   "source": [
    "from langchain_google_genai import ChatGoogleGenerativeAI\n",
    "import os\n",
    "from dotenv import load_dotenv\n",
    "\n",
    "load_dotenv(override=True)\n",
    "api_key = os.environ.get(\"GOOGLE_API_KEY\")\n",
    "llm = ChatGoogleGenerativeAI(model=\"gemini-2.5-flash\", google_api_key=api_key)"
   ]
  },
  {
   "cell_type": "code",
   "execution_count": 21,
   "metadata": {},
   "outputs": [],
   "source": [
    "response = llm.invoke(\"안녕\")"
   ]
  },
  {
   "cell_type": "code",
   "execution_count": 22,
   "metadata": {},
   "outputs": [
    {
     "name": "stdout",
     "output_type": "stream",
     "text": [
      "content='안녕하세요!' additional_kwargs={} response_metadata={'prompt_feedback': {'block_reason': 0, 'safety_ratings': []}, 'finish_reason': 'STOP', 'model_name': 'gemini-2.5-flash', 'safety_ratings': []} id='run--702ce41a-725d-4557-939f-af0e1b5ce97a-0' usage_metadata={'input_tokens': 3, 'output_tokens': 2, 'total_tokens': 41, 'input_token_details': {'cache_read': 0}, 'output_token_details': {'reasoning': 36}}\n"
     ]
    }
   ],
   "source": [
    "print(response)"
   ]
  },
  {
   "cell_type": "code",
   "execution_count": 62,
   "metadata": {},
   "outputs": [],
   "source": [
    "import pandas as pd\n",
    "\n",
    "df = pd.read_csv(\"../../../test_comments.csv\")"
   ]
  },
  {
   "cell_type": "code",
   "execution_count": 63,
   "metadata": {},
   "outputs": [
    {
     "data": {
      "text/plain": [
       "Index(['https://www.instagram.com/hanr0r0/p/DL1uYy8SRkH/', 'hanr0r0 3 d도망 라이브 클립 봐 주면 안 되낭?'], dtype='object')"
      ]
     },
     "execution_count": 63,
     "metadata": {},
     "output_type": "execute_result"
    }
   ],
   "source": [
    "df.columns"
   ]
  },
  {
   "cell_type": "code",
   "execution_count": 64,
   "metadata": {},
   "outputs": [],
   "source": [
    "df.columns = [\"source\", \"comments\"]"
   ]
  },
  {
   "cell_type": "code",
   "execution_count": 65,
   "metadata": {},
   "outputs": [],
   "source": [
    "new_row = {\n",
    "    \"source\": \"https://www.instagram.com/hanr0r0/p/DL1uYy8SRkH/\",\n",
    "    \"comments\": \"hanr0r0 3 d도망 라이브 클립 봐 주면 안 되낭?\",\n",
    "}\n",
    "\n",
    "df = pd.concat([pd.DataFrame([new_row]), df], ignore_index=True)"
   ]
  },
  {
   "cell_type": "code",
   "execution_count": 66,
   "metadata": {},
   "outputs": [],
   "source": [
    "df = df.loc[~df[\"comments\"].str.startswith(\"View\")]"
   ]
  },
  {
   "cell_type": "code",
   "execution_count": 67,
   "metadata": {},
   "outputs": [],
   "source": [
    "import json\n",
    "\n",
    "# source별로 comments를 리스트로 모으기\n",
    "source_comments = df.groupby(\"source\")[\"comments\"].apply(list).to_dict()\n",
    "\n",
    "# json 파일로 저장\n",
    "with open(\"../../../test_comments.json\", \"w\", encoding=\"utf-8\") as f:\n",
    "    json.dump(source_comments, f, ensure_ascii=False, indent=2)"
   ]
  },
  {
   "cell_type": "code",
   "execution_count": 68,
   "metadata": {},
   "outputs": [
    {
     "data": {
      "text/plain": [
       "{'https://www.instagram.com/hanr0r0/p/DI3mmBkSpX8/': ['hanr0r0\\xa011 w@coldplay 🪐🤍🌈',\n",
       "  '당신은 굿이에요 당신은 그레잇해요',\n",
       "  '💓💓🥳',\n",
       "  '로로언니 저시험포기하고언니보러 갓어요 ㅠ넘애쀼',\n",
       "  '로로가 울지도 않고 노래를 잘해요…',\n",
       "  '@bird.ybuddy  헤엑 로로 헤메코 몬일이다냐 개입뻐😮',\n",
       "  '😍😍😍😍😍😍😍😍😍😍😍😍',\n",
       "  '아기락스타 너무 멋쟁이야 너무 기특해 잘햇다👏👏🔥🔥❤️❤️',\n",
       "  '고생했다이🔥',\n",
       "  '와..... 언니 너무 예뻐요 정말',\n",
       "  '사랑훼❤️',\n",
       "  '👸🏻so amazing!! Proud of you🥹🤍',\n",
       "  '우주최고밴드와 우주최고아기락스타🤟🏻',\n",
       "  '제발…너무이뻐언니사랑해…ㅠㅠ',\n",
       "  '대로로🔥',\n",
       "  '입춘 너무 좋아요🌸🌸',\n",
       "  '25 April'],\n",
       " 'https://www.instagram.com/hanr0r0/p/DI59UdoyuRy/': ['hanr0r0\\xa010 w@official_lovesome 💕',\n",
       "  '누나 제 친구들이 누나 가사가 유치하대요 ㅠㅠ',\n",
       "  '👏🏻👏🏻💕💕💕💕💕',\n",
       "  '왤케예뻐 ㅁㅊ',\n",
       "  '로로 사랑해!! 💗 로로가 러브썸 찢음',\n",
       "  '3일 연속 공연 고생하셨습니다🔥🔥',\n",
       "  '넘넘아리따우셔라..',\n",
       "  '[web발신]너는 나를 존중해야한다나 대로로는 콜드플레이서울공연오프닝아티스트로무대에섰으며 이상비행이란 명반을냈고 다수의 싱글이 스트리밍 100만을달성했고방탄소년단멤버의샤라웃을받으며글로벌인정을받았으며 음악 시작한지몇개월만에국내최대규모스튜디오MOS에정식입사하여뮤지션으로서공식커리어를시작했으며 피식대학에서 1시간가량이나 같은곡 라이브를하였고 남극까지 들릴정도의 라이브 성량을 갖고있으며....(중략)',\n",
       "  '오늘 비긴어게인을 보면서 처음으로 한로로님을 알게되어 입춘이란 노래를 다운로드 받아서 무한반복 듣고있습니다. 앞으로도 좋은 노래 부탁드립니다.',\n",
       "  '한로로와결혼할래',\n",
       "  '대로로',\n",
       "  '대로로',\n",
       "  \"대—-로—-로( つ '-')╮—̳͟͞ 🍓\",\n",
       "  '26 April',\n",
       "  'hanr0r0\\xa011 w@official_lovesome 💕',\n",
       "  '누나 제 친구들이 누나 가사가 유치하대요 ㅠㅠ',\n",
       "  '👏🏻👏🏻💕💕💕💕💕',\n",
       "  '왤케예뻐 ㅁㅊ',\n",
       "  '로로 사랑해!! 💗 로로가 러브썸 찢음',\n",
       "  '넘넘아리따우셔라..',\n",
       "  '오늘 비긴어게인을 보면서 처음으로 한로로님을 알게되어 입춘이란 노래를 다운로드 받아서 무한반복 듣고있습니다. 앞으로도 좋은 노래 부탁드립니다.',\n",
       "  '[web발신]너는 나를 존중해야한다나 대로로는 콜드플레이서울공연오프닝아티스트로무대에섰으며 이상비행이란 명반을냈고 다수의 싱글이 스트리밍 100만을달성했고방탄소년단멤버의샤라웃을받으며글로벌인정을받았으며 음악 시작한지몇개월만에국내최대규모스튜디오MOS에정식입사하여뮤지션으로서공식커리어를시작했으며 피식대학에서 1시간가량이나 같은곡 라이브를하였고 남극까지 들릴정도의 라이브 성량을 갖고있으며....(중략)',\n",
       "  '한로로와결혼할래',\n",
       "  '대로로',\n",
       "  \"대—-로—-로( つ '-')╮—̳͟͞ 🍓\",\n",
       "  '3일 연속 공연 고생하셨습니다🔥🔥',\n",
       "  '대로로',\n",
       "  '26 April'],\n",
       " 'https://www.instagram.com/hanr0r0/p/DIYAXPWSRJp/': ['hanr0r0\\xa012 w🍓🍓',\n",
       "  '기여우어기여워기여워기여워❤️',\n",
       "  '너무 귀여워요 ㅜㅜ',\n",
       "  '귀여워 딸기공주',\n",
       "  '@easy_362 이분이 한로로씨구나',\n",
       "  'te kiero micho',\n",
       "  '스트로 로로~',\n",
       "  '사랑해요',\n",
       "  '딸기모찌',\n",
       "  '딸기로로 🍓',\n",
       "  '대로로',\n",
       "  '상의 정보좀요 급함',\n",
       "  '청주 한씨',\n",
       "  '13 April',\n",
       "  'hanr0r0\\xa012 w🍓🍓',\n",
       "  '기여우어기여워기여워기여워❤️',\n",
       "  '너무 귀여워요 ㅜㅜ',\n",
       "  '귀여워 딸기공주',\n",
       "  '@easy_362 이분이 한로로씨구나',\n",
       "  'te kiero micho',\n",
       "  '스트로 로로~',\n",
       "  '사랑해요',\n",
       "  '딸기모찌',\n",
       "  '딸기로로 🍓',\n",
       "  '대로로',\n",
       "  '상의 정보좀요 급함',\n",
       "  '청주 한씨',\n",
       "  '13 April'],\n",
       " 'https://www.instagram.com/hanr0r0/p/DIn9wrsywdl/': ['hanr0r0\\xa011 w2025 spring live clip !! ❄️☀️🌱',\n",
       "  '한로로는사과해라내가학교도잘못다니고유튜브에서한로로만검색한다한로로는사과해라',\n",
       "  '한로로사랑해 스카에서 공부 안 하고 당신 노래만 들으면서 멍 때리고 잇어',\n",
       "  '한로로 얼굴의 점이 되고싶다……………',\n",
       "  '이런 선물이..🥹',\n",
       "  '로로짱 최고!!',\n",
       "  '입하 입추 입동 안내고 뭐하냐!',\n",
       "  '한로로 누나 노래 들으면서 열공할게염',\n",
       "  '스프링 라이브 클립인데 눈이 내려여',\n",
       "  '한로로가 내 마음에 폭싹 내렸수다',\n",
       "  '사실 나는 작은 서점을 운영 중인데 아침에 보니 카톡도 999,메시지도 999개찍혀 있더라.깜짝 놀라 확인해보니 영한 사전 오류로 환불요청이 가득했다심지어 고소까지 언급하는 사람도 있더라고작 오류 몇 개가 , 고소까지 들먹일 정도로 화날 일인가?투덜대면서 무슨 오류인지 사전을 펼쳐봤다..이런! 한심하기 짝이 없는 오류였다이런 기본적인 단어도 틀린 사전이라니,Wonderful에는 세가지 뜻이 있다1.멋진 2.경이로운 3.한로로사전엔 세번째 뜻이 적혀 있지 않았고, 급히페이지를 넘긴다..Cute에는 세가지 뜻이 있다1.귀여운 2.영리한 3.한로로이번에도! 그 뒤로는 불 보듯 뻔했다gorgeous, lovely, special.오늘은 바쁠 것 같다, 팔았던 사전들을 죄다 환불해줘야 할테니.',\n",
       "  '19 April',\n",
       "  'hanr0r0\\xa012 w2025 spring live clip !! ❄️☀️🌱',\n",
       "  '한로로는사과해라내가학교도잘못다니고유튜브에서한로로만검색한다한로로는사과해라',\n",
       "  '한로로사랑해 스카에서 공부 안 하고 당신 노래만 들으면서 멍 때리고 잇어',\n",
       "  '한로로 얼굴의 점이 되고싶다……………',\n",
       "  '이런 선물이..🥹',\n",
       "  '로로짱 최고!!',\n",
       "  '입하 입추 입동 안내고 뭐하냐!',\n",
       "  '한로로 누나 노래 들으면서 열공할게염',\n",
       "  '스프링 라이브 클립인데 눈이 내려여',\n",
       "  '한로로가 내 마음에 폭싹 내렸수다',\n",
       "  '사실 나는 작은 서점을 운영 중인데 아침에 보니 카톡도 999,메시지도 999개찍혀 있더라.깜짝 놀라 확인해보니 영한 사전 오류로 환불요청이 가득했다심지어 고소까지 언급하는 사람도 있더라고작 오류 몇 개가 , 고소까지 들먹일 정도로 화날 일인가?투덜대면서 무슨 오류인지 사전을 펼쳐봤다..이런! 한심하기 짝이 없는 오류였다이런 기본적인 단어도 틀린 사전이라니,Wonderful에는 세가지 뜻이 있다1.멋진 2.경이로운 3.한로로사전엔 세번째 뜻이 적혀 있지 않았고, 급히페이지를 넘긴다..Cute에는 세가지 뜻이 있다1.귀여운 2.영리한 3.한로로이번에도! 그 뒤로는 불 보듯 뻔했다gorgeous, lovely, special.오늘은 바쁠 것 같다, 팔았던 사전들을 죄다 환불해줘야 할테니.',\n",
       "  '19 April'],\n",
       " 'https://www.instagram.com/hanr0r0/p/DJV3VeqS7C6/': ['hanr0r0\\xa09 w자연이 좋아 그래서 자연스러운 내가 좋아',\n",
       "  '안경로로를 사랑해…🪽💕',\n",
       "  '저도좋아요누나',\n",
       "  '자연이 좋다는걸 벌써 알았더니 역시 현명로로🌿',\n",
       "  '사랑해',\n",
       "  '로로쨩을 좋아하는 내가 좋아♡',\n",
       "  '자연스럽다 라는 말을 다시 한 번 생각해보게 되는 !!! 🍀',\n",
       "  '제일 좋아하는 버스자리',\n",
       "  '안경이 본체',\n",
       "  '저는 그냥 누나 좋아할래요',\n",
       "  '@o._.o920 로로가 좋아',\n",
       "  '나두 초록이 좋아서 초록이 가득한 여름이 좋아~🍃🍃',\n",
       "  '저도 누나가 좋아요',\n",
       "  '@nowizmisselehtreven 자연이 좋다',\n",
       "  '저도언니가좋아요..',\n",
       "  '7 May',\n",
       "  '기요미ㅗㅠㅠㅠㅠㅠ',\n",
       "  '@se_unn 징쨔 긔엽다.......',\n",
       "  '나도누나가좋아',\n",
       "  '저도 누나가 좋아요',\n",
       "  '콜드플레이 영상보고 입덕했습니다',\n",
       "  '팬입니다 ㅎㅎ 출퇴근, 강아지산책, 야근, 청소, 설거지 등 한로로의 음악과 항상✌🏻',\n",
       "  '로로ㅠ❤️',\n",
       "  '7 May'],\n",
       " 'https://www.instagram.com/hanr0r0/p/DKE0pWsS0bJ/': ['hanr0r0\\xa06 w@peak_festa 💙',\n",
       "  '청주한씨 화이팅 👏',\n",
       "  '귀욥다',\n",
       "  '언니오늘최고였어욤🔥',\n",
       "  '로로애기 최고였어 !!!!!! 대로로 !!!! 사랑해요 😭😭🫶🏻🫶🏻',\n",
       "  '아 진짜... 오늘 너무 행복했어요...😢 너무 고맙고..뿌듯하고..',\n",
       "  '우리의 락스타 🔥',\n",
       "  '천사🪽🪽🪽🪽🪽🪽🪽♥️',\n",
       "  '따랑해',\n",
       "  '누나 사랑해요',\n",
       "  '사랑합니다',\n",
       "  '엥 왜케이쁨',\n",
       "  '레쭈고 레쮸고',\n",
       "  '아니..왜이리 귀여워..ㅠ',\n",
       "  '마이크 드랍마저 귀여운 로로',\n",
       "  '너무 예뻐요❤️❤️😍',\n",
       "  '25 May',\n",
       "  '언니또보고싶어요...💕💕🧎🏻\\u200d♀️',\n",
       "  '한로로는 전설이다.',\n",
       "  '결혼해 조요',\n",
       "  '귀욥다',\n",
       "  '혹시..진짜 물어볼곳이 없어서 그런데 한로로님 앨범 재발매는 안될수도있는걸까요..?타팬이라 진짜 아는게 없는데..입덕직전이라..답글받으면 댓 지우겠습니다..',\n",
       "  '기여워😍',\n",
       "  '공듀 ㅠㅠ',\n",
       "  '25 May'],\n",
       " 'https://www.instagram.com/hanr0r0/p/DKZdlURS6fF/': ['귀요미 로로',\n",
       "  '사랑해 누나😍😍😍',\n",
       "  '귀여워 💙💙💙💙💙',\n",
       "  '@big.mac__killer  로로님 제주도 오시면 저희한테 말 해주셔야죠...',\n",
       "  '@joon_wall 사랑하게되',\n",
       "  '여름로로 너무 조아…😭',\n",
       "  '생일 최고의 선물 한로로의 새 게시글 알람 ㄷㄷ',\n",
       "  '“인스타용“',\n",
       "  '여름 로로 조아 ☀️🍉☘️',\n",
       "  '귀여움의 대명사, 귀여움의 신, 귀여움의 전설, 귀여움의 권위자, 귀여움의 지배자, 귀여움의 표본, 귀여움의 정석, 귀여움의 군림자, 귀여움의 대명사, 귀여움의 황제, 귀여움의 종결자. 바로 한 로 로',\n",
       "  '노래 참 조타',\n",
       "  '한로로의 화해도 좋아요',\n",
       "  '사람이 이렇게 귀여울 수가 있냐고오',\n",
       "  '로로씨 어디강아지에요',\n",
       "  '로로님 6월도 파이팅이에요 😚',\n",
       "  '2 June',\n",
       "  '귀요미 로로',\n",
       "  '사랑해 누나😍😍😍',\n",
       "  '귀여워 💙💙💙💙💙',\n",
       "  '@big.mac__killer  로로님 제주도 오시면 저희한테 말 해주셔야죠...',\n",
       "  '@joon_wall 사랑하게되',\n",
       "  '여름로로 너무 조아…😭',\n",
       "  '생일 최고의 선물 한로로의 새 게시글 알람 ㄷㄷ',\n",
       "  '“인스타용“',\n",
       "  '여름 로로 조아 ☀️🍉☘️',\n",
       "  '귀여움의 대명사, 귀여움의 신, 귀여움의 전설, 귀여움의 권위자, 귀여움의 지배자, 귀여움의 표본, 귀여움의 정석, 귀여움의 군림자, 귀여움의 대명사, 귀여움의 황제, 귀여움의 종결자. 바로 한 로 로',\n",
       "  '노래 참 조타',\n",
       "  '한로로의 화해도 좋아요',\n",
       "  '사람이 이렇게 귀여울 수가 있냐고오',\n",
       "  '로로씨 어디강아지에요',\n",
       "  '로로님 6월도 파이팅이에요 😚',\n",
       "  '2 June'],\n",
       " 'https://www.instagram.com/hanr0r0/p/DL1uYy8SRkH/': ['hanr0r0 3 d도망 라이브 클립 봐 주면 안 되낭?',\n",
       "  '되지되지되지되지되지되지되지되지되지되지되지되지되지되지되지되지되지되지되지되지되지되지되지되지되지되지되지되지되지되지되지되지되지되지되지되지되지되지되지되지되지되지되지되지되지되지되지되지되지되지되지되지되지되지되지되지되지되지되지되지되지되지되지되지되지되지되지되지되지되지되지되지되지되지되지되지되지되지되지되지되지되지되지되지되지되지되지되지되지되지되지되지되지되지되지되지되지되지되지되지되지되지',\n",
       "  '😍😍😍',\n",
       "  '기대된당',\n",
       "  '챙겨볼게요~ 로로님🤍🐰',\n",
       "  '당장 달려가',\n",
       "  '더 줘…',\n",
       "  '한지수씨 브이하는척 눈찌르기 하시면 않되요',\n",
       "  'ㅇㅋ접수',\n",
       "  '도망보러 도망쳐~~🏃🏃',\n",
       "  '우리 로로가 해달라는데 당연이봐야지^^말만하렴',\n",
       "  '아 쌉가능이요',\n",
       "  '당연이 되지.',\n",
       "  '우리 로로가 봐달라는데 당연히 봐줄 수 있지!',\n",
       "  '알았당',\n",
       "  '@khshin_ @kyunnxn_',\n",
       "  '3 days ago',\n",
       "  'hanr0r0\\xa04 d도망 라이브 클립 봐 주면 안 되낭?',\n",
       "  '되지되지되지되지되지되지되지되지되지되지되지되지되지되지되지되지되지되지되지되지되지되지되지되지되지되지되지되지되지되지되지되지되지되지되지되지되지되지되지되지되지되지되지되지되지되지되지되지되지되지되지되지되지되지되지되지되지되지되지되지되지되지되지되지되지되지되지되지되지되지되지되지되지되지되지되지되지되지되지되지되지되지되지되지되지되지되지되지되지되지되지되지되지되지되지되지되지되지되지되지되지되지',\n",
       "  '😍😍😍',\n",
       "  '기대된당',\n",
       "  '챙겨볼게요~ 로로님🤍🐰',\n",
       "  '당장 달려가',\n",
       "  '더 줘…',\n",
       "  '한지수씨 브이하는척 눈찌르기 하시면 않되요',\n",
       "  '도망보러 도망쳐~~🏃🏃',\n",
       "  'ㅇㅋ접수',\n",
       "  '우리 로로가 해달라는데 당연이봐야지^^말만하렴',\n",
       "  '아 쌉가능이요',\n",
       "  '당연이 되지.',\n",
       "  '우리 로로가 봐달라는데 당연히 봐줄 수 있지!',\n",
       "  '알았당',\n",
       "  '제가 봐드릴게요',\n",
       "  '4 days ago'],\n",
       " 'https://www.instagram.com/hanr0r0/p/DLZZJ3kSpa_/': ['hanr0r0\\xa02 w⠀HANRORO 3rd EP [자몽살구클럽] Official Concept PhotoPre-release Single ’도망 (Can I Be Me?)‘2025.7.6. SUN. 12PM (KST)',\n",
       "  '도망의 영어 부제가 ‘Can I be me’라니.. 너무 좋다',\n",
       "  '느좋의 대명사, 느좋의 신, 느좋의 전설, 느좋의 권위자, 느좋의 지배자, 느좋의 표본, 느좋의 정석, 느좋의 군림자, 느좋의 대명사, 느좋의 황제, 느좋의 종결자.',\n",
       "  '공주님',\n",
       "  '@yw.c0516  이거디',\n",
       "  '빛빛빛 3rd EP [빛빛빛빛빛빛]',\n",
       "  '온다 🔥🔥',\n",
       "  '드디어 여름선물? 자몽살구클럽 가보자잇❤️',\n",
       "  '얼굴좀보여조언니',\n",
       "  '뽀 로 로',\n",
       "  '빛이나다 못해 빛이 되어버린…',\n",
       "  '큰거온다🔥🔥',\n",
       "  'Omg 다살자...',\n",
       "  '대 로 로 🔥🔥',\n",
       "  '결혼해요?',\n",
       "  '27 June',\n",
       "  'hanr0r0\\xa02 w⠀HANRORO 3rd EP [자몽살구클럽] Official Concept PhotoPre-release Single ’도망 (Can I Be Me?)‘2025.7.6. SUN. 12PM (KST)',\n",
       "  '도망의 영어 부제가 ‘Can I be me’라니.. 너무 좋다',\n",
       "  '느좋의 대명사, 느좋의 신, 느좋의 전설, 느좋의 권위자, 느좋의 지배자, 느좋의 표본, 느좋의 정석, 느좋의 군림자, 느좋의 대명사, 느좋의 황제, 느좋의 종결자.',\n",
       "  '@yw.c0516  이거디',\n",
       "  '공주님',\n",
       "  '빛빛빛 3rd EP [빛빛빛빛빛빛]',\n",
       "  '온다 🔥🔥',\n",
       "  '드디어 여름선물? 자몽살구클럽 가보자잇❤️',\n",
       "  '얼굴좀보여조언니',\n",
       "  '뽀 로 로',\n",
       "  '빛이나다 못해 빛이 되어버린…',\n",
       "  '큰거온다🔥🔥',\n",
       "  'Omg 다살자...',\n",
       "  '대 로 로 🔥🔥',\n",
       "  '결혼해요?',\n",
       "  '27 June']}"
      ]
     },
     "execution_count": 68,
     "metadata": {},
     "output_type": "execute_result"
    }
   ],
   "source": [
    "import json\n",
    "\n",
    "with open(\"../../../test_comments.json\", \"r\", encoding=\"utf-8\") as f:\n",
    "    data = json.load(f)\n",
    "data"
   ]
  }
 ],
 "metadata": {
  "kernelspec": {
   "display_name": ".venv",
   "language": "python",
   "name": "python3"
  },
  "language_info": {
   "codemirror_mode": {
    "name": "ipython",
    "version": 3
   },
   "file_extension": ".py",
   "mimetype": "text/x-python",
   "name": "python",
   "nbconvert_exporter": "python",
   "pygments_lexer": "ipython3",
   "version": "3.13.5"
  }
 },
 "nbformat": 4,
 "nbformat_minor": 2
}
