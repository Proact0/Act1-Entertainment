{
 "cells": [
  {
   "cell_type": "markdown",
   "metadata": {},
   "source": [
    "# Management Workflow 테스트\n",
    "\n",
    "이 노트북은 management 워크플로우를 직접 실행하여 테스트합니다."
   ]
  },
  {
   "cell_type": "code",
   "execution_count": null,
   "metadata": {},
   "outputs": [],
   "source": [
    "# 환경 변수 로드\n",
    "import os\n",
    "import sys\n",
    "from dotenv import load_dotenv\n",
    "\n",
    "# 프로젝트 루트 디렉토리를 Python 경로에 추가\n",
    "project_root = os.path.abspath('.')\n",
    "if project_root not in sys.path:\n",
    "    sys.path.insert(0, project_root)\n",
    "\n",
    "# .env 파일 로드\n",
    "load_dotenv()\n",
    "\n",
    "# 환경 변수 확인\n",
    "print(f\"OPENAI_API_KEY: {os.getenv('OPENAI_API_KEY')[:20]}...\")\n",
    "print(f\"TAVILY_API_KEY: {os.getenv('TAVILY_API_KEY')[:20]}...\")"
   ]
  },
  {
   "cell_type": "markdown",
   "metadata": {},
   "source": [
    "## 1. 필요한 모듈 임포트"
   ]
  },
  {
   "cell_type": "code",
   "execution_count": null,
   "metadata": {},
   "outputs": [],
   "source": [
    "from agents.management.modules.state import ManagementState\n",
    "from agents.management.modules.nodes import WebSearchNode, ResourceManagementNode\n",
    "from agents.management.workflow import ManagementWorkflow"
   ]
  },
  {
   "cell_type": "markdown",
   "metadata": {},
   "source": [
    "## 2. 개별 노드 테스트"
   ]
  },
  {
   "cell_type": "code",
   "execution_count": null,
   "metadata": {},
   "outputs": [],
   "source": [
    "# 웹 검색 노드 테스트\n",
    "web_search_node = WebSearchNode()\n",
    "\n",
    "# 초기 상태 생성\n",
    "test_state = {\n",
    "    \"project_id\": \"PRJ-2024-001\",\n",
    "    \"request_type\": \"resource_allocation\",\n",
    "    \"query\": \"콘서트 기획\",\n",
    "    \"response\": [],\n",
    "    \"team_members\": [\"기획팀\", \"마케팅팀\", \"기술팀\"],\n",
    "    \"resources_available\": {\"budget\": \"5억원\", \"venue\": \"올림픽공원\"}\n",
    "}\n",
    "\n",
    "# 웹 검색 실행\n",
    "print(\"=== 웹 검색 노드 실행 ===\")\n",
    "search_result = web_search_node.execute(test_state)\n",
    "print(f\"검색 결과: {search_result}\")"
   ]
  },
  {
   "cell_type": "code",
   "execution_count": null,
   "metadata": {},
   "outputs": [],
   "source": [
    "# 검색 결과를 상태에 추가\n",
    "test_state[\"search_results\"] = search_result.get(\"search_results\", \"검색 결과 없음\")\n",
    "\n",
    "# 리소스 관리 노드 테스트\n",
    "resource_node = ResourceManagementNode()\n",
    "\n",
    "print(\"\\n=== 리소스 관리 노드 실행 ===\")\n",
    "resource_result = resource_node.execute(test_state)\n",
    "print(f\"\\n리소스 계획:\\n{resource_result['response']}\")"
   ]
  },
  {
   "cell_type": "markdown",
   "metadata": {},
   "source": [
    "## 3. 전체 워크플로우 실행"
   ]
  },
  {
   "cell_type": "code",
   "execution_count": null,
   "metadata": {},
   "outputs": [],
   "source": [
    "# ManagementWorkflow 인스턴스 생성\n",
    "workflow = ManagementWorkflow()\n",
    "\n",
    "# 워크플로우 컴파일\n",
    "compiled_workflow = workflow.build()\n",
    "\n",
    "# 워크플로우 구조 확인\n",
    "print(\"워크플로우 그래프 구조:\")\n",
    "print(compiled_workflow.get_graph())"
   ]
  },
  {
   "cell_type": "code",
   "execution_count": null,
   "metadata": {},
   "outputs": [],
   "source": [
    "# 워크플로우 실행을 위한 입력 데이터\n",
    "workflow_input = {\n",
    "    \"project_id\": \"PRJ-2024-002\",\n",
    "    \"request_type\": \"team_management\",\n",
    "    \"query\": \"신규 드라마 제작팀 구성\",\n",
    "    \"response\": [],\n",
    "    \"team_members\": [\"PD\", \"작가\", \"촬영감독\"],\n",
    "    \"resources_available\": {\n",
    "        \"budget\": \"100억원\",\n",
    "        \"duration\": \"6개월\",\n",
    "        \"location\": \"서울 및 부산\"\n",
    "    }\n",
    "}\n",
    "\n",
    "print(\"\\n=== 전체 워크플로우 실행 ===\")\n",
    "print(f\"입력: {workflow_input}\\n\")\n",
    "\n",
    "# 워크플로우 실행\n",
    "result = compiled_workflow.invoke(workflow_input)\n",
    "\n",
    "print(\"\\n=== 최종 결과 ===\")\n",
    "print(f\"프로젝트 ID: {result['project_id']}\")\n",
    "print(f\"요청 유형: {result['request_type']}\")\n",
    "print(f\"\\n리소스 계획:\\n{result.get('response', '응답 없음')}\")"
   ]
  },
  {
   "cell_type": "markdown",
   "metadata": {},
   "source": [
    "## 4. 다양한 시나리오 테스트"
   ]
  },
  {
   "cell_type": "code",
   "execution_count": null,
   "metadata": {},
   "outputs": [],
   "source": [
    "# 시나리오 1: 음악 앨범 제작\n",
    "music_input = {\n",
    "    \"project_id\": \"MUSIC-2024-IU\",\n",
    "    \"request_type\": \"resource_allocation\",\n",
    "    \"query\": \"새 앨범 제작을 위한 리소스 계획\",\n",
    "    \"response\": [],\n",
    "    \"team_members\": [\"프로듀서\", \"작곡가\", \"편곡자\", \"엔지니어\"],\n",
    "    \"resources_available\": {\n",
    "        \"budget\": \"20억원\",\n",
    "        \"studio\": \"서울 스튜디오 A, B\",\n",
    "        \"timeline\": \"3개월\"\n",
    "    }\n",
    "}\n",
    "\n",
    "print(\"=== 시나리오 1: 음악 앨범 제작 ===\")\n",
    "music_result = compiled_workflow.invoke(music_input)\n",
    "print(f\"\\n리소스 계획:\\n{music_result.get('response', '응답 없음')}\")"
   ]
  },
  {
   "cell_type": "code",
   "execution_count": null,
   "metadata": {},
   "outputs": [],
   "source": [
    "# 시나리오 2: 팬미팅 이벤트\n",
    "fanmeeting_input = {\n",
    "    \"project_id\": \"EVENT-2024-FM\",\n",
    "    \"request_type\": \"creator_development\",\n",
    "    \"query\": \"글로벌 팬미팅 투어 계획\",\n",
    "    \"response\": [],\n",
    "    \"team_members\": [\"이벤트 기획팀\", \"보안팀\", \"통역팀\"],\n",
    "    \"resources_available\": {\n",
    "        \"budget\": \"30억원\",\n",
    "        \"cities\": \"서울, 도쿄, 방콕, 홍콩\",\n",
    "        \"duration\": \"2주\"\n",
    "    }\n",
    "}\n",
    "\n",
    "print(\"\\n=== 시나리오 2: 팬미팅 이벤트 ===\")\n",
    "fanmeeting_result = compiled_workflow.invoke(fanmeeting_input)\n",
    "print(f\"\\n리소스 계획:\\n{fanmeeting_result.get('response', '응답 없음')}\")"
   ]
  },
  {
   "cell_type": "markdown",
   "metadata": {},
   "source": [
    "## 5. 스트리밍 모드로 실행 (실시간 진행 상황 확인)"
   ]
  },
  {
   "cell_type": "code",
   "execution_count": null,
   "metadata": {},
   "outputs": [],
   "source": [
    "# 스트리밍 모드로 워크플로우 실행\n",
    "streaming_input = {\n",
    "    \"project_id\": \"STREAM-2024-001\",\n",
    "    \"request_type\": \"resource_allocation\",\n",
    "    \"query\": \"넷플릭스 시리즈 제작\",\n",
    "    \"response\": [],\n",
    "    \"team_members\": [\"총괄 PD\", \"각본가\", \"캐스팅 디렉터\"],\n",
    "    \"resources_available\": {\n",
    "        \"budget\": \"200억원\",\n",
    "        \"episodes\": \"8부작\",\n",
    "        \"platform\": \"Netflix\"\n",
    "    }\n",
    "}\n",
    "\n",
    "print(\"=== 스트리밍 모드 실행 ===\")\n",
    "for event in compiled_workflow.stream(streaming_input):\n",
    "    for node_name, node_output in event.items():\n",
    "        print(f\"\\n[{node_name}] 실행 중...\")\n",
    "        if isinstance(node_output, dict):\n",
    "            for key, value in node_output.items():\n",
    "                if key == \"response\" and value:\n",
    "                    print(f\"응답: {value[:200]}...\")\n",
    "                elif key == \"search_results\":\n",
    "                    print(f\"검색 완료: {value[:100]}...\")"
   ]
  },
  {
   "cell_type": "markdown",
   "metadata": {},
   "source": [
    "## 6. 커스텀 도구 테스트 (Tavily 없이)"
   ]
  },
  {
   "cell_type": "code",
   "execution_count": null,
   "metadata": {},
   "outputs": [],
   "source": [
    "# Tavily API 키 임시 제거하여 모의 검색 도구 사용\n",
    "original_tavily_key = os.environ.get('TAVILY_API_KEY')\n",
    "if 'TAVILY_API_KEY' in os.environ:\n",
    "    del os.environ['TAVILY_API_KEY']\n",
    "\n",
    "# 모의 검색 도구로 워크플로우 재생성\n",
    "mock_workflow = ManagementWorkflow()\n",
    "mock_compiled = mock_workflow.build()\n",
    "\n",
    "mock_input = {\n",
    "    \"project_id\": \"MOCK-2024-001\",\n",
    "    \"request_type\": \"resource_allocation\",\n",
    "    \"query\": \"모의 프로젝트 테스트\",\n",
    "    \"response\": [],\n",
    "    \"team_members\": [\"테스트팀\"],\n",
    "    \"resources_available\": {\"budget\": \"테스트\"}\n",
    "}\n",
    "\n",
    "print(\"=== 모의 검색 도구 테스트 ===\")\n",
    "mock_result = mock_compiled.invoke(mock_input)\n",
    "print(f\"\\n결과: {mock_result.get('response', '응답 없음')[:500]}...\")\n",
    "\n",
    "# 원래 키 복원\n",
    "if original_tavily_key:\n",
    "    os.environ['TAVILY_API_KEY'] = original_tavily_key"
   ]
  }
 ],
 "metadata": {
  "kernelspec": {
   "display_name": "Python 3",
   "language": "python",
   "name": "python3"
  },
  "language_info": {
   "codemirror_mode": {
    "name": "ipython",
    "version": 3
   },
   "file_extension": ".py",
   "mimetype": "text/x-python",
   "name": "python",
   "nbconvert_exporter": "python",
   "pygments_lexer": "ipython3",
   "version": "3.11.0"
  }
 },
 "nbformat": 4,
 "nbformat_minor": 4
}
