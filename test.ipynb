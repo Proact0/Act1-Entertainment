{
 "cells": [
  {
   "cell_type": "code",
   "execution_count": 32,
   "id": "bc0da556",
   "metadata": {},
   "outputs": [],
   "source": [
    "### https://velog.io/@acdongpgm/Python-%EB%82%A0%EC%94%A8-API-%EC%82%AC%EC%9A%A9%ED%95%98%EA%B8%B0-%EB%AC%B4%EB%A3%8CFree\n",
    "\n",
    "import requests\n",
    "from datetime import datetime\n",
    "import xmltodict\n",
    "\n",
    "def get_current_date():\n",
    "    current_date = datetime.now().date()\n",
    "    return current_date.strftime(\"%Y%m%d\")\n",
    "\n",
    "def get_current_hour():\n",
    "    now = datetime.now()\n",
    "    return datetime.now().strftime(\"%H%M\")\n",
    "\n",
    "#   # 강수형태: 없음(0), 비(1), 비/눈(2), 눈(3), 빗방울(5), 빗방울눈날림(6), 눈날림(7)\n",
    "int_to_weather = {\n",
    "    \"0\": \"맑음\",\n",
    "    \"1\": \"비\",\n",
    "    \"2\": \"비/눈\",\n",
    "    \"3\": \"눈\",\n",
    "    \"5\": \"빗방울\",\n",
    "    \"6\": \"빗방울눈날림\",\n",
    "    \"7\": \"눈날림\"\n",
    "}\n",
    "\n",
    "def forecast(params):\n",
    "    url = 'http://apis.data.go.kr/1360000/VilageFcstInfoService_2.0/getUltraSrtNcst' # 초단기예보\n",
    "    # 값 요청 (웹 브라우저 서버에서 요청 - url주소와 파라미터)\n",
    "    res = requests.get(url, params)\n",
    "\n",
    "    #XML -> 딕셔너리\n",
    "    xml_data = res.text\n",
    "    dict_data = xmltodict.parse(xml_data)\n",
    "\n",
    "    for item in dict_data['response']['body']['items']['item']:\n",
    "        if item['category'] == 'T1H':\n",
    "            temp = item['obsrValue']\n",
    "\n",
    "        # 강수형태: 없음(0), 비(1), 비/눈(2), 눈(3), 빗방울(5), 빗방울눈날림(6), 눈날림(7)\n",
    "        if item['category'] == 'PTY':\n",
    "            sky = item['obsrValue']\n",
    "\n",
    "        if item['category'] == 'REH':\n",
    "            humidity = item['obsrValue']\n",
    "\n",
    "        ### SKY 는 있는데 왜 추출이 안되는지 잘 모르겠음.\n",
    "        # # 하늘상태: 맑음(1) 구름많은(3) 흐림(4)\n",
    "        # if item['category'] == 'SKY':\n",
    "        #     cloudy = item['obsrValue']\n",
    "\n",
    "\n",
    "            \n",
    "    sky = int_to_weather[sky]\n",
    "    \n",
    "    return temp, sky, humidity"
   ]
  },
  {
   "cell_type": "code",
   "execution_count": 34,
   "id": "4c892c67",
   "metadata": {},
   "outputs": [
    {
     "name": "stdout",
     "output_type": "stream",
     "text": [
      "현재 강남의 날씨는 맑음이며 온도는 22도, 습도는 39% 입니다.\n"
     ]
    }
   ],
   "source": [
    "keys = '/kbgzj0w2c/AQJn53oZKIJ/wyEF4hGrNLz+I/CdEvdi50aqm7ch4enCPQFpxi1HSxIH+Z/4jcN+7PXx3FOJU4g=='\n",
    "\n",
    "params ={'serviceKey' : keys, \n",
    "         'pageNo' : '1', \n",
    "         'numOfRows' : '10', \n",
    "         'dataType' : 'XML', \n",
    "         'base_date' : get_current_date(), \n",
    "         'base_time' : get_current_hour(), \n",
    "         # 강남 신사동 61, 126\n",
    "         'nx' : '61', \n",
    "         'ny' : '126' }\n",
    "\n",
    "temperature, weather, humidity = forecast(params)\n",
    "\n",
    "sentence = f\"현재 강남의 날씨는 {weather}이며 온도는 {temperature}도, 습도는 {humidity}% 입니다.\"\n",
    "print(sentence)"
   ]
  },
  {
   "cell_type": "code",
   "execution_count": 3,
   "id": "2fbb7ed8",
   "metadata": {},
   "outputs": [
    {
     "data": {
      "text/plain": [
       "'/kbgzj0w2c/AQJn53oZKIJ/wyEF4hGrNLz+I/CdEvdi50aqm7ch4enCPQFpxi1HSxIH+Z/4jcN+7PXx3FOJU4g=='"
      ]
     },
     "execution_count": 3,
     "metadata": {},
     "output_type": "execute_result"
    }
   ],
   "source": [
    "# from dotenv import load_dotenv\n",
    "# load_dotenv()\n",
    "\n",
    "import os\n",
    "\n",
    "os.getenv(\"WEATHER_API_KEY\")"
   ]
  },
  {
   "cell_type": "code",
   "execution_count": 1,
   "id": "de858816",
   "metadata": {},
   "outputs": [
    {
     "data": {
      "text/plain": [
       "'/kbgzj0w2c/AQJn53oZKIJ/wyEF4hGrNLz+I/CdEvdi50aqm7ch4enCPQFpxi1HSxIH+Z/4jcN+7PXx3FOJU4g=='"
      ]
     },
     "execution_count": 1,
     "metadata": {},
     "output_type": "execute_result"
    }
   ],
   "source": [
    "\n",
    "import os\n",
    "\n",
    "os.getenv(\"WEATHER_API_KEY\")"
   ]
  },
  {
   "cell_type": "code",
   "execution_count": null,
   "id": "3f18bc3f",
   "metadata": {},
   "outputs": [],
   "source": []
  }
 ],
 "metadata": {
  "kernelspec": {
   "display_name": ".venv",
   "language": "python",
   "name": "python3"
  },
  "language_info": {
   "codemirror_mode": {
    "name": "ipython",
    "version": 3
   },
   "file_extension": ".py",
   "mimetype": "text/x-python",
   "name": "python",
   "nbconvert_exporter": "python",
   "pygments_lexer": "ipython3",
   "version": "3.13.3"
  }
 },
 "nbformat": 4,
 "nbformat_minor": 5
}
