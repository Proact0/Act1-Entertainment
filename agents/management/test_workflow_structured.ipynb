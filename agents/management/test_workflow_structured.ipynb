{
 "cells": [
  {
   "cell_type": "markdown",
   "metadata": {},
   "source": [
    "# Management Workflow 테스트 노트북\n",
    "\n",
    "이 노트북은 Act1-Entertainment 프로젝트의 기본 구조를 따르면서 Management Workflow를 테스트합니다.\n",
    "\n",
    "프로젝트 구조:\n",
    "- `BaseWorkflow`를 상속받은 `ManagementWorkflow`\n",
    "- `BaseNode`를 상속받은 `WebSearchNode`, `ResourceManagementNode`\n",
    "- LangGraph의 `StateGraph`를 사용한 워크플로우 구성"
   ]
  },
  {
   "cell_type": "markdown",
   "metadata": {},
   "source": [
    "## 1. 환경 설정"
   ]
  },
  {
   "cell_type": "code",
   "execution_count": null,
   "metadata": {},
   "outputs": [
    {
     "ename": "",
     "evalue": "",
     "output_type": "error",
     "traceback": [
      "\u001b[1;31mRunning cells with '.venv (Python 3.13.3)' requires the ipykernel package.\n",
      "\u001b[1;31mRun the following command to install 'ipykernel' into the Python environment. \n",
      "\u001b[1;31mCommand: 'c:/cursor/Act1-Entertainment/.venv/Scripts/python.exe -m pip install ipykernel -U --force-reinstall'"
     ]
    }
   ],
   "source": [
    "# 환경 변수 및 경로 설정\n",
    "import os\n",
    "import sys\n",
    "from pathlib import Path\n",
    "from dotenv import load_dotenv\n",
    "\n",
    "# 프로젝트 루트 디렉토리 찾기\n",
    "project_root = Path.cwd()\n",
    "if project_root.name != \"Act1-Entertainment\":\n",
    "    # 상위 디렉토리에서 Act1-Entertainment 찾기\n",
    "    for parent in project_root.parents:\n",
    "        if parent.name == \"Act1-Entertainment\":\n",
    "            project_root = parent\n",
    "            break\n",
    "\n",
    "# Python 경로에 프로젝트 루트 추가\n",
    "if str(project_root) not in sys.path:\n",
    "    sys.path.insert(0, str(project_root))\n",
    "\n",
    "# .env 파일 로드\n",
    "env_path = project_root / \".env\"\n",
    "load_dotenv(env_path)\n",
    "\n",
    "print(f\"프로젝트 루트: {project_root}\")\n",
    "print(f\"환경 변수 파일: {env_path}\")\n",
    "print(f\"OPENAI_API_KEY 설정됨: {'예' if os.getenv('OPENAI_API_KEY') else '아니오'}\")\n",
    "print(f\"TAVILY_API_KEY 설정됨: {'예' if os.getenv('TAVILY_API_KEY') else '아니오'}\")"
   ]
  },
  {
   "cell_type": "code",
   "execution_count": null,
   "metadata": {},
   "outputs": [
    {
     "ename": "",
     "evalue": "",
     "output_type": "error",
     "traceback": [
      "\u001b[1;31mRunning cells with '.venv (Python 3.13.3)' requires the ipykernel package.\n",
      "\u001b[1;31mRun the following command to install 'ipykernel' into the Python environment. \n",
      "\u001b[1;31mCommand: 'c:/cursor/Act1-Entertainment/.venv/Scripts/python.exe -m pip install ipykernel -U --force-reinstall'"
     ]
    }
   ],
   "source": [
    "jupyter kernelspec list\n"
   ]
  },
  {
   "cell_type": "code",
   "execution_count": 2,
   "metadata": {},
   "outputs": [
    {
     "name": "stdout",
     "output_type": "stream",
     "text": [
      "c:\\cursor\\.venv\\Scripts\\python.exe\n"
     ]
    }
   ],
   "source": [
    "import sys\n",
    "print(sys.executable)"
   ]
  },
  {
   "cell_type": "markdown",
   "metadata": {},
   "source": [
    "## 2. 프로젝트 구조 확인"
   ]
  },
  {
   "cell_type": "code",
   "execution_count": 2,
   "metadata": {},
   "outputs": [
    {
     "ename": "ImportError",
     "evalue": "cannot import name 'BaseMetadata' from 'annotated_types' (unknown location)",
     "output_type": "error",
     "traceback": [
      "\u001b[31m---------------------------------------------------------------------------\u001b[39m",
      "\u001b[31mImportError\u001b[39m                               Traceback (most recent call last)",
      "\u001b[36mCell\u001b[39m\u001b[36m \u001b[39m\u001b[32mIn[2]\u001b[39m\u001b[32m, line 2\u001b[39m\n\u001b[32m      1\u001b[39m \u001b[38;5;66;03m# 기본 클래스 임포트\u001b[39;00m\n\u001b[32m----> \u001b[39m\u001b[32m2\u001b[39m \u001b[38;5;28;01mfrom\u001b[39;00m\u001b[38;5;250m \u001b[39m\u001b[34;01magents\u001b[39;00m\u001b[34;01m.\u001b[39;00m\u001b[34;01mbase_workflow\u001b[39;00m\u001b[38;5;250m \u001b[39m\u001b[38;5;28;01mimport\u001b[39;00m BaseWorkflow\n\u001b[32m      3\u001b[39m \u001b[38;5;28;01mfrom\u001b[39;00m\u001b[38;5;250m \u001b[39m\u001b[34;01magents\u001b[39;00m\u001b[34;01m.\u001b[39;00m\u001b[34;01mbase_node\u001b[39;00m\u001b[38;5;250m \u001b[39m\u001b[38;5;28;01mimport\u001b[39;00m BaseNode\n\u001b[32m      5\u001b[39m \u001b[38;5;66;03m# BaseWorkflow의 구조 확인\u001b[39;00m\n",
      "\u001b[36mFile \u001b[39m\u001b[32mc:\\cursor\\Act1-Entertainment\\agents\\__init__.py:1\u001b[39m\n\u001b[32m----> \u001b[39m\u001b[32m1\u001b[39m \u001b[38;5;28;01mfrom\u001b[39;00m\u001b[38;5;250m \u001b[39m\u001b[34;01magents\u001b[39;00m\u001b[34;01m.\u001b[39;00m\u001b[34;01mworkflow\u001b[39;00m\u001b[38;5;250m \u001b[39m\u001b[38;5;28;01mimport\u001b[39;00m main_workflow\n\u001b[32m      3\u001b[39m __all__ = [\u001b[33m\"\u001b[39m\u001b[33mmain_workflow\u001b[39m\u001b[33m\"\u001b[39m]\n",
      "\u001b[36mFile \u001b[39m\u001b[32mc:\\cursor\\Act1-Entertainment\\agents\\workflow.py:1\u001b[39m\n\u001b[32m----> \u001b[39m\u001b[32m1\u001b[39m \u001b[38;5;28;01mfrom\u001b[39;00m\u001b[38;5;250m \u001b[39m\u001b[34;01mlanggraph\u001b[39;00m\u001b[34;01m.\u001b[39;00m\u001b[34;01mgraph\u001b[39;00m\u001b[38;5;250m \u001b[39m\u001b[38;5;28;01mimport\u001b[39;00m StateGraph\n\u001b[32m      3\u001b[39m \u001b[38;5;28;01mfrom\u001b[39;00m\u001b[38;5;250m \u001b[39m\u001b[34;01magents\u001b[39;00m\u001b[34;01m.\u001b[39;00m\u001b[34;01mbase_workflow\u001b[39;00m\u001b[38;5;250m \u001b[39m\u001b[38;5;28;01mimport\u001b[39;00m BaseWorkflow\n\u001b[32m      4\u001b[39m \u001b[38;5;28;01mfrom\u001b[39;00m\u001b[38;5;250m \u001b[39m\u001b[34;01magents\u001b[39;00m\u001b[34;01m.\u001b[39;00m\u001b[34;01mmain_state\u001b[39;00m\u001b[38;5;250m \u001b[39m\u001b[38;5;28;01mimport\u001b[39;00m MainState\n",
      "\u001b[36mFile \u001b[39m\u001b[32mc:\\cursor\\documentation\\.venv\\Lib\\site-packages\\langgraph\\graph\\__init__.py:1\u001b[39m\n\u001b[32m----> \u001b[39m\u001b[32m1\u001b[39m \u001b[38;5;28;01mfrom\u001b[39;00m\u001b[38;5;250m \u001b[39m\u001b[34;01mlanggraph\u001b[39;00m\u001b[34;01m.\u001b[39;00m\u001b[34;01mgraph\u001b[39;00m\u001b[34;01m.\u001b[39;00m\u001b[34;01mgraph\u001b[39;00m\u001b[38;5;250m \u001b[39m\u001b[38;5;28;01mimport\u001b[39;00m END, START, Graph\n\u001b[32m      2\u001b[39m \u001b[38;5;28;01mfrom\u001b[39;00m\u001b[38;5;250m \u001b[39m\u001b[34;01mlanggraph\u001b[39;00m\u001b[34;01m.\u001b[39;00m\u001b[34;01mgraph\u001b[39;00m\u001b[34;01m.\u001b[39;00m\u001b[34;01mmessage\u001b[39;00m\u001b[38;5;250m \u001b[39m\u001b[38;5;28;01mimport\u001b[39;00m MessageGraph, MessagesState, add_messages\n\u001b[32m      3\u001b[39m \u001b[38;5;28;01mfrom\u001b[39;00m\u001b[38;5;250m \u001b[39m\u001b[34;01mlanggraph\u001b[39;00m\u001b[34;01m.\u001b[39;00m\u001b[34;01mgraph\u001b[39;00m\u001b[34;01m.\u001b[39;00m\u001b[34;01mstate\u001b[39;00m\u001b[38;5;250m \u001b[39m\u001b[38;5;28;01mimport\u001b[39;00m StateGraph\n",
      "\u001b[36mFile \u001b[39m\u001b[32mc:\\cursor\\documentation\\.venv\\Lib\\site-packages\\langgraph\\graph\\graph.py:17\u001b[39m\n\u001b[32m      3\u001b[39m \u001b[38;5;28;01mfrom\u001b[39;00m\u001b[38;5;250m \u001b[39m\u001b[34;01mcollections\u001b[39;00m\u001b[38;5;250m \u001b[39m\u001b[38;5;28;01mimport\u001b[39;00m defaultdict\n\u001b[32m      4\u001b[39m \u001b[38;5;28;01mfrom\u001b[39;00m\u001b[38;5;250m \u001b[39m\u001b[34;01mtyping\u001b[39;00m\u001b[38;5;250m \u001b[39m\u001b[38;5;28;01mimport\u001b[39;00m (\n\u001b[32m      5\u001b[39m     Any,\n\u001b[32m      6\u001b[39m     Awaitable,\n\u001b[32m   (...)\u001b[39m\u001b[32m     14\u001b[39m     overload,\n\u001b[32m     15\u001b[39m )\n\u001b[32m---> \u001b[39m\u001b[32m17\u001b[39m \u001b[38;5;28;01mfrom\u001b[39;00m\u001b[38;5;250m \u001b[39m\u001b[34;01mlangchain_core\u001b[39;00m\u001b[34;01m.\u001b[39;00m\u001b[34;01mrunnables\u001b[39;00m\u001b[38;5;250m \u001b[39m\u001b[38;5;28;01mimport\u001b[39;00m Runnable\n\u001b[32m     18\u001b[39m \u001b[38;5;28;01mfrom\u001b[39;00m\u001b[38;5;250m \u001b[39m\u001b[34;01mlangchain_core\u001b[39;00m\u001b[34;01m.\u001b[39;00m\u001b[34;01mrunnables\u001b[39;00m\u001b[34;01m.\u001b[39;00m\u001b[34;01mconfig\u001b[39;00m\u001b[38;5;250m \u001b[39m\u001b[38;5;28;01mimport\u001b[39;00m RunnableConfig\n\u001b[32m     19\u001b[39m \u001b[38;5;28;01mfrom\u001b[39;00m\u001b[38;5;250m \u001b[39m\u001b[34;01mlangchain_core\u001b[39;00m\u001b[34;01m.\u001b[39;00m\u001b[34;01mrunnables\u001b[39;00m\u001b[34;01m.\u001b[39;00m\u001b[34;01mgraph\u001b[39;00m\u001b[38;5;250m \u001b[39m\u001b[38;5;28;01mimport\u001b[39;00m Graph \u001b[38;5;28;01mas\u001b[39;00m DrawableGraph\n",
      "\u001b[36mFile \u001b[39m\u001b[32mc:\\cursor\\documentation\\.venv\\Lib\\site-packages\\langchain_core\\runnables\\__init__.py:20\u001b[39m\n\u001b[32m      1\u001b[39m \u001b[33;03m\"\"\"LangChain **Runnable** and the **LangChain Expression Language (LCEL)**.\u001b[39;00m\n\u001b[32m      2\u001b[39m \n\u001b[32m      3\u001b[39m \u001b[33;03mThe LangChain Expression Language (LCEL) offers a declarative method to build\u001b[39;00m\n\u001b[32m   (...)\u001b[39m\u001b[32m     17\u001b[39m \u001b[33;03mThis module contains schema and implementation of LangChain Runnables primitives.\u001b[39;00m\n\u001b[32m     18\u001b[39m \u001b[33;03m\"\"\"\u001b[39;00m\n\u001b[32m---> \u001b[39m\u001b[32m20\u001b[39m \u001b[38;5;28;01mfrom\u001b[39;00m\u001b[38;5;250m \u001b[39m\u001b[34;01mlangchain_core\u001b[39;00m\u001b[34;01m.\u001b[39;00m\u001b[34;01mrunnables\u001b[39;00m\u001b[34;01m.\u001b[39;00m\u001b[34;01mbase\u001b[39;00m\u001b[38;5;250m \u001b[39m\u001b[38;5;28;01mimport\u001b[39;00m (\n\u001b[32m     21\u001b[39m     Runnable,\n\u001b[32m     22\u001b[39m     RunnableBinding,\n\u001b[32m     23\u001b[39m     RunnableGenerator,\n\u001b[32m     24\u001b[39m     RunnableLambda,\n\u001b[32m     25\u001b[39m     RunnableMap,\n\u001b[32m     26\u001b[39m     RunnableParallel,\n\u001b[32m     27\u001b[39m     RunnableSequence,\n\u001b[32m     28\u001b[39m     RunnableSerializable,\n\u001b[32m     29\u001b[39m     chain,\n\u001b[32m     30\u001b[39m )\n\u001b[32m     31\u001b[39m \u001b[38;5;28;01mfrom\u001b[39;00m\u001b[38;5;250m \u001b[39m\u001b[34;01mlangchain_core\u001b[39;00m\u001b[34;01m.\u001b[39;00m\u001b[34;01mrunnables\u001b[39;00m\u001b[34;01m.\u001b[39;00m\u001b[34;01mbranch\u001b[39;00m\u001b[38;5;250m \u001b[39m\u001b[38;5;28;01mimport\u001b[39;00m RunnableBranch\n\u001b[32m     32\u001b[39m \u001b[38;5;28;01mfrom\u001b[39;00m\u001b[38;5;250m \u001b[39m\u001b[34;01mlangchain_core\u001b[39;00m\u001b[34;01m.\u001b[39;00m\u001b[34;01mrunnables\u001b[39;00m\u001b[34;01m.\u001b[39;00m\u001b[34;01mconfig\u001b[39;00m\u001b[38;5;250m \u001b[39m\u001b[38;5;28;01mimport\u001b[39;00m (\n\u001b[32m     33\u001b[39m     RunnableConfig,\n\u001b[32m     34\u001b[39m     ensure_config,\n\u001b[32m   (...)\u001b[39m\u001b[32m     37\u001b[39m     run_in_executor,\n\u001b[32m     38\u001b[39m )\n",
      "\u001b[36mFile \u001b[39m\u001b[32mc:\\cursor\\documentation\\.venv\\Lib\\site-packages\\langchain_core\\runnables\\base.py:40\u001b[39m\n\u001b[32m     25\u001b[39m \u001b[38;5;28;01mfrom\u001b[39;00m\u001b[38;5;250m \u001b[39m\u001b[34;01mtypes\u001b[39;00m\u001b[38;5;250m \u001b[39m\u001b[38;5;28;01mimport\u001b[39;00m GenericAlias\n\u001b[32m     26\u001b[39m \u001b[38;5;28;01mfrom\u001b[39;00m\u001b[38;5;250m \u001b[39m\u001b[34;01mtyping\u001b[39;00m\u001b[38;5;250m \u001b[39m\u001b[38;5;28;01mimport\u001b[39;00m (\n\u001b[32m     27\u001b[39m     TYPE_CHECKING,\n\u001b[32m     28\u001b[39m     Any,\n\u001b[32m   (...)\u001b[39m\u001b[32m     37\u001b[39m     overload,\n\u001b[32m     38\u001b[39m )\n\u001b[32m---> \u001b[39m\u001b[32m40\u001b[39m \u001b[38;5;28;01mfrom\u001b[39;00m\u001b[38;5;250m \u001b[39m\u001b[34;01mpydantic\u001b[39;00m\u001b[38;5;250m \u001b[39m\u001b[38;5;28;01mimport\u001b[39;00m BaseModel, ConfigDict, Field, RootModel\n\u001b[32m     41\u001b[39m \u001b[38;5;28;01mfrom\u001b[39;00m\u001b[38;5;250m \u001b[39m\u001b[34;01mtyping_extensions\u001b[39;00m\u001b[38;5;250m \u001b[39m\u001b[38;5;28;01mimport\u001b[39;00m Literal, get_args, override\n\u001b[32m     43\u001b[39m \u001b[38;5;28;01mfrom\u001b[39;00m\u001b[38;5;250m \u001b[39m\u001b[34;01mlangchain_core\u001b[39;00m\u001b[34;01m.\u001b[39;00m\u001b[34;01m_api\u001b[39;00m\u001b[38;5;250m \u001b[39m\u001b[38;5;28;01mimport\u001b[39;00m beta_decorator\n",
      "\u001b[36mFile \u001b[39m\u001b[32mc:\\cursor\\documentation\\.venv\\Lib\\site-packages\\pydantic\\__init__.py:435\u001b[39m, in \u001b[36m__getattr__\u001b[39m\u001b[34m(attr_name)\u001b[39m\n\u001b[32m    433\u001b[39m     \u001b[38;5;28;01mreturn\u001b[39;00m result\n\u001b[32m    434\u001b[39m \u001b[38;5;28;01melse\u001b[39;00m:\n\u001b[32m--> \u001b[39m\u001b[32m435\u001b[39m     module = \u001b[43mimport_module\u001b[49m\u001b[43m(\u001b[49m\u001b[43mmodule_name\u001b[49m\u001b[43m,\u001b[49m\u001b[43m \u001b[49m\u001b[43mpackage\u001b[49m\u001b[43m=\u001b[49m\u001b[43mpackage\u001b[49m\u001b[43m)\u001b[49m\n\u001b[32m    436\u001b[39m     result = \u001b[38;5;28mgetattr\u001b[39m(module, attr_name)\n\u001b[32m    437\u001b[39m     g = \u001b[38;5;28mglobals\u001b[39m()\n",
      "\u001b[36mFile \u001b[39m\u001b[32m~\\AppData\\Local\\Programs\\Python\\Python311\\Lib\\importlib\\__init__.py:126\u001b[39m, in \u001b[36mimport_module\u001b[39m\u001b[34m(name, package)\u001b[39m\n\u001b[32m    124\u001b[39m             \u001b[38;5;28;01mbreak\u001b[39;00m\n\u001b[32m    125\u001b[39m         level += \u001b[32m1\u001b[39m\n\u001b[32m--> \u001b[39m\u001b[32m126\u001b[39m \u001b[38;5;28;01mreturn\u001b[39;00m \u001b[43m_bootstrap\u001b[49m\u001b[43m.\u001b[49m\u001b[43m_gcd_import\u001b[49m\u001b[43m(\u001b[49m\u001b[43mname\u001b[49m\u001b[43m[\u001b[49m\u001b[43mlevel\u001b[49m\u001b[43m:\u001b[49m\u001b[43m]\u001b[49m\u001b[43m,\u001b[49m\u001b[43m \u001b[49m\u001b[43mpackage\u001b[49m\u001b[43m,\u001b[49m\u001b[43m \u001b[49m\u001b[43mlevel\u001b[49m\u001b[43m)\u001b[49m\n",
      "\u001b[36mFile \u001b[39m\u001b[32mc:\\cursor\\documentation\\.venv\\Lib\\site-packages\\pydantic\\fields.py:23\u001b[39m\n\u001b[32m     20\u001b[39m \u001b[38;5;28;01mfrom\u001b[39;00m\u001b[38;5;250m \u001b[39m\u001b[34;01mtyping_inspection\u001b[39;00m\u001b[38;5;250m \u001b[39m\u001b[38;5;28;01mimport\u001b[39;00m typing_objects\n\u001b[32m     21\u001b[39m \u001b[38;5;28;01mfrom\u001b[39;00m\u001b[38;5;250m \u001b[39m\u001b[34;01mtyping_inspection\u001b[39;00m\u001b[34;01m.\u001b[39;00m\u001b[34;01mintrospection\u001b[39;00m\u001b[38;5;250m \u001b[39m\u001b[38;5;28;01mimport\u001b[39;00m UNKNOWN, AnnotationSource, ForbiddenQualifier, Qualifier, inspect_annotation\n\u001b[32m---> \u001b[39m\u001b[32m23\u001b[39m \u001b[38;5;28;01mfrom\u001b[39;00m\u001b[38;5;250m \u001b[39m\u001b[34;01m.\u001b[39;00m\u001b[38;5;250m \u001b[39m\u001b[38;5;28;01mimport\u001b[39;00m types\n\u001b[32m     24\u001b[39m \u001b[38;5;28;01mfrom\u001b[39;00m\u001b[38;5;250m \u001b[39m\u001b[34;01m.\u001b[39;00m\u001b[34;01m_internal\u001b[39;00m\u001b[38;5;250m \u001b[39m\u001b[38;5;28;01mimport\u001b[39;00m _decorators, _fields, _generics, _internal_dataclass, _repr, _typing_extra, _utils\n\u001b[32m     25\u001b[39m \u001b[38;5;28;01mfrom\u001b[39;00m\u001b[38;5;250m \u001b[39m\u001b[34;01m.\u001b[39;00m\u001b[34;01m_internal\u001b[39;00m\u001b[34;01m.\u001b[39;00m\u001b[34;01m_namespace_utils\u001b[39;00m\u001b[38;5;250m \u001b[39m\u001b[38;5;28;01mimport\u001b[39;00m GlobalsNamespace, MappingNamespace\n",
      "\u001b[36mFile \u001b[39m\u001b[32mc:\\cursor\\documentation\\.venv\\Lib\\site-packages\\pydantic\\types.py:30\u001b[39m\n\u001b[32m     27\u001b[39m \u001b[38;5;28;01mfrom\u001b[39;00m\u001b[38;5;250m \u001b[39m\u001b[34;01muuid\u001b[39;00m\u001b[38;5;250m \u001b[39m\u001b[38;5;28;01mimport\u001b[39;00m UUID\n\u001b[32m     29\u001b[39m \u001b[38;5;28;01mimport\u001b[39;00m\u001b[38;5;250m \u001b[39m\u001b[34;01mannotated_types\u001b[39;00m\n\u001b[32m---> \u001b[39m\u001b[32m30\u001b[39m \u001b[38;5;28;01mfrom\u001b[39;00m\u001b[38;5;250m \u001b[39m\u001b[34;01mannotated_types\u001b[39;00m\u001b[38;5;250m \u001b[39m\u001b[38;5;28;01mimport\u001b[39;00m BaseMetadata, MaxLen, MinLen\n\u001b[32m     31\u001b[39m \u001b[38;5;28;01mfrom\u001b[39;00m\u001b[38;5;250m \u001b[39m\u001b[34;01mpydantic_core\u001b[39;00m\u001b[38;5;250m \u001b[39m\u001b[38;5;28;01mimport\u001b[39;00m CoreSchema, PydanticCustomError, SchemaSerializer, core_schema\n\u001b[32m     32\u001b[39m \u001b[38;5;28;01mfrom\u001b[39;00m\u001b[38;5;250m \u001b[39m\u001b[34;01mtyping_extensions\u001b[39;00m\u001b[38;5;250m \u001b[39m\u001b[38;5;28;01mimport\u001b[39;00m Protocol, TypeAlias, TypeAliasType, deprecated, get_args, get_origin\n",
      "\u001b[31mImportError\u001b[39m: cannot import name 'BaseMetadata' from 'annotated_types' (unknown location)"
     ]
    }
   ],
   "source": [
    "# 기본 클래스 임포트\n",
    "from agents.base_workflow import BaseWorkflow\n",
    "from agents.base_node import BaseNode\n",
    "\n",
    "# BaseWorkflow의 구조 확인\n",
    "print(\"=== BaseWorkflow 구조 ===\")\n",
    "print(f\"추상 메서드: {[method for method in dir(BaseWorkflow) if method.startswith('build')]}\")\n",
    "print(f\"BaseWorkflow.__doc__:\\n{BaseWorkflow.__doc__}\")\n",
    "\n",
    "print(\"\\n=== BaseNode 구조 ===\")\n",
    "print(f\"추상 메서드: {[method for method in dir(BaseNode) if method.startswith('execute')]}\")\n",
    "print(f\"BaseNode.__doc__:\\n{BaseNode.__doc__}\")"
   ]
  },
  {
   "cell_type": "markdown",
   "metadata": {},
   "source": [
    "## 3. Management 모듈 임포트"
   ]
  },
  {
   "cell_type": "code",
   "execution_count": null,
   "metadata": {},
   "outputs": [],
   "source": [
    "# Management 워크플로우 관련 임포트\n",
    "from agents.management.modules.state import ManagementState\n",
    "from agents.management.modules.nodes import WebSearchNode, ResourceManagementNode\n",
    "from agents.management.workflow import ManagementWorkflow, management_workflow\n",
    "\n",
    "# 구조 확인\n",
    "print(\"=== ManagementWorkflow 정보 ===\")\n",
    "print(f\"부모 클래스: {ManagementWorkflow.__bases__}\")\n",
    "print(f\"워크플로우 이름: {management_workflow.name}\")\n",
    "print(f\"상태 클래스: {management_workflow.state}\")\n",
    "\n",
    "print(\"\\n=== ManagementState 필드 ===\")\n",
    "print(ManagementState.__annotations__)"
   ]
  },
  {
   "cell_type": "markdown",
   "metadata": {},
   "source": [
    "## 4. 노드 단위 테스트"
   ]
  },
  {
   "cell_type": "code",
   "execution_count": null,
   "metadata": {},
   "outputs": [],
   "source": [
    "# WebSearchNode 단독 테스트\n",
    "print(\"=== WebSearchNode 테스트 ===\")\n",
    "\n",
    "# 노드 인스턴스 생성 (verbose=True로 로깅 활성화)\n",
    "web_search_node = WebSearchNode(verbose=True)\n",
    "print(f\"노드 이름: {web_search_node.name}\")\n",
    "print(f\"BaseNode를 상속받음: {isinstance(web_search_node, BaseNode)}\")\n",
    "\n",
    "# 테스트용 상태 생성\n",
    "test_state = ManagementState(\n",
    "    project_id=\"TEST-001\",\n",
    "    request_type=\"resource_allocation\",\n",
    "    query=\"아이유 콘서트 기획\",\n",
    "    response=[],\n",
    "    team_members=[\"기획팀\", \"마케팅팀\"],\n",
    "    resources_available={\"budget\": \"10억원\", \"venue\": \"고척스카이돔\"}\n",
    ")\n",
    "\n",
    "# execute 메서드 직접 호출\n",
    "search_result = web_search_node.execute(test_state)\n",
    "print(f\"\\n검색 결과 키: {search_result.keys()}\")\n",
    "print(f\"검색 결과 내용: {search_result.get('search_results', 'N/A')[:200]}...\")"
   ]
  },
  {
   "cell_type": "code",
   "execution_count": null,
   "metadata": {},
   "outputs": [],
   "source": [
    "# ResourceManagementNode 단독 테스트\n",
    "print(\"=== ResourceManagementNode 테스트 ===\")\n",
    "\n",
    "# 검색 결과를 상태에 추가\n",
    "test_state[\"search_results\"] = search_result.get(\"search_results\", \"검색 결과 없음\")\n",
    "\n",
    "# 노드 인스턴스 생성\n",
    "resource_node = ResourceManagementNode(verbose=True)\n",
    "print(f\"노드 이름: {resource_node.name}\")\n",
    "print(f\"BaseNode를 상속받음: {isinstance(resource_node, BaseNode)}\")\n",
    "\n",
    "# execute 메서드 호출\n",
    "resource_result = resource_node.execute(test_state)\n",
    "print(f\"\\n리소스 계획 결과 키: {resource_result.keys()}\")\n",
    "print(f\"\\n생성된 리소스 계획 (처음 500자):\\n{resource_result['response'][:500]}...\")"
   ]
  },
  {
   "cell_type": "markdown",
   "metadata": {},
   "source": [
    "## 5. 워크플로우 빌드 및 구조 확인"
   ]
  },
  {
   "cell_type": "code",
   "execution_count": null,
   "metadata": {},
   "outputs": [],
   "source": [
    "# 기존 인스턴스 사용 또는 새로 생성\n",
    "print(\"=== ManagementWorkflow 빌드 ===\")\n",
    "\n",
    "# workflow.py에서 이미 생성된 인스턴스 사용\n",
    "print(f\"기존 워크플로우 인스턴스 사용: {management_workflow.name}\")\n",
    "\n",
    "# 워크플로우 빌드\n",
    "compiled_workflow = management_workflow.build()\n",
    "print(f\"\\n컴파일된 워크플로우 타입: {type(compiled_workflow)}\")\n",
    "print(f\"워크플로우 이름: {compiled_workflow.name}\")\n",
    "\n",
    "# 그래프 구조 확인\n",
    "graph = compiled_workflow.get_graph()\n",
    "print(f\"\\n그래프 노드: {graph.nodes}\")\n",
    "print(f\"그래프 엣지: {graph.edges}\")"
   ]
  },
  {
   "cell_type": "code",
   "execution_count": null,
   "metadata": {},
   "outputs": [],
   "source": [
    "# 그래프 시각화 (mermaid 다이어그램)\n",
    "try:\n",
    "    mermaid_graph = compiled_workflow.get_graph().draw_mermaid()\n",
    "    print(\"=== 워크플로우 구조 (Mermaid) ===\")\n",
    "    print(mermaid_graph)\n",
    "except Exception as e:\n",
    "    print(f\"Mermaid 다이어그램 생성 실패: {e}\")"
   ]
  },
  {
   "cell_type": "markdown",
   "metadata": {},
   "source": [
    "## 6. 전체 워크플로우 실행"
   ]
  },
  {
   "cell_type": "code",
   "execution_count": null,
   "metadata": {},
   "outputs": [],
   "source": [
    "# 워크플로우 입력 데이터 준비\n",
    "workflow_input = {\n",
    "    \"project_id\": \"IU-CONCERT-2024\",\n",
    "    \"request_type\": \"resource_allocation\",\n",
    "    \"query\": \"아이유 2024 연말 콘서트 기획\",\n",
    "    \"response\": [],\n",
    "    \"team_members\": [\"총괄 PD\", \"음향 감독\", \"조명 감독\", \"무대 디자이너\", \"보안팀장\"],\n",
    "    \"resources_available\": {\n",
    "        \"budget\": \"50억원\",\n",
    "        \"venue\": \"고척스카이돔\",\n",
    "        \"date_range\": \"2024년 12월 20-25일\",\n",
    "        \"expected_audience\": \"20,000명/일\"\n",
    "    }\n",
    "}\n",
    "\n",
    "print(\"=== 워크플로우 실행 ===\")\n",
    "print(f\"입력 데이터:\")\n",
    "for key, value in workflow_input.items():\n",
    "    if key != \"response\":\n",
    "        print(f\"  {key}: {value}\")\n",
    "\n",
    "# invoke 메서드로 워크플로우 실행\n",
    "result = compiled_workflow.invoke(workflow_input)\n",
    "\n",
    "print(\"\\n=== 실행 결과 ===\")\n",
    "print(f\"검색 결과 존재: {'예' if result.get('search_results') else '아니오'}\")\n",
    "print(f\"리소스 계획 생성: {'예' if result.get('response') else '아니오'}\")\n",
    "print(f\"\\n최종 응답:\\n{result.get('response', '응답 없음')}\")"
   ]
  },
  {
   "cell_type": "markdown",
   "metadata": {},
   "source": [
    "## 7. 스트리밍 모드 실행"
   ]
  },
  {
   "cell_type": "code",
   "execution_count": null,
   "metadata": {},
   "outputs": [],
   "source": [
    "# 스트리밍 모드로 워크플로우 실행 (각 노드의 실행 과정을 실시간으로 확인)\n",
    "streaming_input = {\n",
    "    \"project_id\": \"IU-FANMEETING-2024\",\n",
    "    \"request_type\": \"creator_development\",\n",
    "    \"query\": \"아이유 글로벌 팬미팅 투어\",\n",
    "    \"response\": [],\n",
    "    \"team_members\": [\"이벤트 기획팀\", \"글로벌 마케팅팀\", \"통역팀\"],\n",
    "    \"resources_available\": {\n",
    "        \"budget\": \"30억원\",\n",
    "        \"cities\": [\"서울\", \"도쿄\", \"상하이\", \"방콕\", \"싱가포르\"],\n",
    "        \"duration\": \"2주\"\n",
    "    }\n",
    "}\n",
    "\n",
    "print(\"=== 스트리밍 모드 실행 ===\")\n",
    "print(\"각 노드의 실행 과정을 실시간으로 확인합니다.\\n\")\n",
    "\n",
    "for event in compiled_workflow.stream(streaming_input):\n",
    "    for node_name, node_output in event.items():\n",
    "        print(f\"\\n[노드: {node_name}]\")\n",
    "        if isinstance(node_output, dict):\n",
    "            for key, value in node_output.items():\n",
    "                if key == \"response\" and value:\n",
    "                    print(f\"  - 응답 생성 완료 ({len(value)} 문자)\")\n",
    "                elif key == \"search_results\" and value:\n",
    "                    print(f\"  - 검색 완료: {str(value)[:100]}...\")\n",
    "                elif key not in [\"response\", \"search_results\"]:\n",
    "                    print(f\"  - {key}: {value}\")"
   ]
  },
  {
   "cell_type": "markdown",
   "metadata": {},
   "source": [
    "## 8. 다양한 시나리오 테스트"
   ]
  },
  {
   "cell_type": "code",
   "execution_count": null,
   "metadata": {},
   "outputs": [],
   "source": [
    "# 여러 시나리오를 정의하고 테스트\n",
    "scenarios = [\n",
    "    {\n",
    "        \"name\": \"음악 앨범 제작\",\n",
    "        \"input\": {\n",
    "            \"project_id\": \"ALBUM-IU-2024\",\n",
    "            \"request_type\": \"resource_allocation\",\n",
    "            \"query\": \"아이유 정규 6집 앨범 제작\",\n",
    "            \"response\": [],\n",
    "            \"team_members\": [\"프로듀서\", \"작곡가\", \"편곡자\", \"녹음 엔지니어\", \"믹싱 엔지니어\"],\n",
    "            \"resources_available\": {\n",
    "                \"budget\": \"15억원\",\n",
    "                \"studio\": \"서울 녹음실 A, B\",\n",
    "                \"timeline\": \"4개월\",\n",
    "                \"featuring_artists\": [\"Dean\", \"박재범\"]\n",
    "            }\n",
    "        }\n",
    "    },\n",
    "    {\n",
    "        \"name\": \"드라마 OST 프로젝트\",\n",
    "        \"input\": {\n",
    "            \"project_id\": \"OST-DRAMA-2024\",\n",
    "            \"request_type\": \"team_management\",\n",
    "            \"query\": \"tvN 새 드라마 OST 제작팀 구성\",\n",
    "            \"response\": [],\n",
    "            \"team_members\": [\"음악감독\", \"OST 코디네이터\"],\n",
    "            \"resources_available\": {\n",
    "                \"budget\": \"5억원\",\n",
    "                \"drama_title\": \"달의 연인\",\n",
    "                \"episodes\": \"16부작\",\n",
    "                \"required_songs\": \"10곡\"\n",
    "            }\n",
    "        }\n",
    "    }\n",
    "]\n",
    "\n",
    "for scenario in scenarios:\n",
    "    print(f\"\\n{'='*60}\")\n",
    "    print(f\"시나리오: {scenario['name']}\")\n",
    "    print(f\"프로젝트 ID: {scenario['input']['project_id']}\")\n",
    "    print(f\"요청 유형: {scenario['input']['request_type']}\")\n",
    "    print(f\"쿼리: {scenario['input']['query']}\")\n",
    "    \n",
    "    result = compiled_workflow.invoke(scenario['input'])\n",
    "    \n",
    "    print(f\"\\n결과 (처음 500자):\")\n",
    "    print(result.get('response', '응답 없음')[:500] + \"...\")"
   ]
  },
  {
   "cell_type": "markdown",
   "metadata": {},
   "source": [
    "## 9. 에러 처리 및 디버깅"
   ]
  },
  {
   "cell_type": "code",
   "execution_count": null,
   "metadata": {},
   "outputs": [],
   "source": [
    "# 필수 필드가 누락된 경우 테스트\n",
    "print(\"=== 에러 처리 테스트 ===\")\n",
    "\n",
    "# 잘못된 입력 데이터 (필수 필드 누락)\n",
    "invalid_input = {\n",
    "    \"project_id\": \"ERROR-TEST\",\n",
    "    # \"request_type\" 누락\n",
    "    \"query\": \"테스트\",\n",
    "    \"response\": []\n",
    "}\n",
    "\n",
    "try:\n",
    "    result = compiled_workflow.invoke(invalid_input)\n",
    "    print(\"워크플로우가 실행되었습니다.\")\n",
    "except Exception as e:\n",
    "    print(f\"예상된 에러 발생: {type(e).__name__}\")\n",
    "    print(f\"에러 메시지: {str(e)}\")\n",
    "\n",
    "# API 키 확인\n",
    "print(\"\\n=== API 키 상태 ===\")\n",
    "print(f\"OpenAI API 키: {'설정됨' if os.getenv('OPENAI_API_KEY') else '없음'}\")\n",
    "print(f\"Tavily API 키: {'설정됨' if os.getenv('TAVILY_API_KEY') else '없음 (모의 검색 사용)'}\")"
   ]
  },
  {
   "cell_type": "markdown",
   "metadata": {},
   "source": [
    "## 10. 커스텀 워크플로우 생성 예제"
   ]
  },
  {
   "cell_type": "code",
   "execution_count": null,
   "metadata": {},
   "outputs": [],
   "source": [
    "# 프로젝트 구조를 따라 새로운 워크플로우를 생성하는 예제\n",
    "from langgraph.graph import StateGraph\n",
    "\n",
    "class CustomManagementWorkflow(BaseWorkflow):\n",
    "    \"\"\"커스터마이징된 Management 워크플로우\"\"\"\n",
    "    \n",
    "    def __init__(self):\n",
    "        super().__init__()\n",
    "        self.state = ManagementState\n",
    "    \n",
    "    def build(self):\n",
    "        \"\"\"웹 검색을 2번 수행하는 커스텀 워크플로우\"\"\"\n",
    "        builder = StateGraph(self.state)\n",
    "        \n",
    "        # 노드 추가\n",
    "        builder.add_node(\"first_search\", WebSearchNode())\n",
    "        builder.add_node(\"second_search\", WebSearchNode())  # 두 번째 검색\n",
    "        builder.add_node(\"resource_planning\", ResourceManagementNode())\n",
    "        \n",
    "        # 엣지 설정\n",
    "        builder.set_entry_point(\"first_search\")\n",
    "        builder.add_edge(\"first_search\", \"second_search\")\n",
    "        builder.add_edge(\"second_search\", \"resource_planning\")\n",
    "        builder.set_finish_point(\"resource_planning\")\n",
    "        \n",
    "        workflow = builder.compile()\n",
    "        workflow.name = self.name\n",
    "        return workflow\n",
    "\n",
    "# 커스텀 워크플로우 테스트\n",
    "print(\"=== 커스텀 워크플로우 테스트 ===\")\n",
    "custom_workflow = CustomManagementWorkflow()\n",
    "custom_compiled = custom_workflow.build()\n",
    "\n",
    "print(f\"커스텀 워크플로우 이름: {custom_compiled.name}\")\n",
    "print(f\"노드 개수: {len(custom_compiled.get_graph().nodes)}\")\n",
    "\n",
    "# 실행\n",
    "custom_result = custom_compiled.invoke(workflow_input)\n",
    "print(f\"\\n실행 완료. 응답 길이: {len(custom_result.get('response', ''))} 문자\")"
   ]
  },
  {
   "cell_type": "markdown",
   "metadata": {},
   "source": [
    "## 정리\n",
    "\n",
    "이 노트북에서는 Act1-Entertainment 프로젝트의 기본 구조를 따라:\n",
    "\n",
    "1. **BaseWorkflow**를 상속받은 ManagementWorkflow 구현\n",
    "2. **BaseNode**를 상속받은 WebSearchNode, ResourceManagementNode 구현\n",
    "3. LangGraph의 **StateGraph**를 사용한 워크플로우 구성\n",
    "4. **invoke()** 및 **stream()** 메서드를 통한 워크플로우 실행\n",
    "5. 다양한 시나리오 테스트 및 에러 처리\n",
    "\n",
    "이 구조는 프로젝트의 다른 워크플로우(text, music, image 등)에도 동일하게 적용됩니다."
   ]
  }
 ],
 "metadata": {
  "kernelspec": {
   "display_name": ".venv",
   "language": "python",
   "name": "python3"
  },
  "language_info": {
   "codemirror_mode": {
    "name": "ipython",
    "version": 3
   },
   "file_extension": ".py",
   "mimetype": "text/x-python",
   "name": "python",
   "nbconvert_exporter": "python",
   "pygments_lexer": "ipython3",
   "version": "3.13.3"
  }
 },
 "nbformat": 4,
 "nbformat_minor": 4
}
